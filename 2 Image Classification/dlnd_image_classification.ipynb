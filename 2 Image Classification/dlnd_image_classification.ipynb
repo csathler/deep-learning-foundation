{
 "cells": [
  {
   "cell_type": "markdown",
   "metadata": {
    "collapsed": true
   },
   "source": [
    "# Image Classification\n",
    "In this project, you'll classify images from the [CIFAR-10 dataset](https://www.cs.toronto.edu/~kriz/cifar.html).  The dataset consists of airplanes, dogs, cats, and other objects. You'll preprocess the images, then train a convolutional neural network on all the samples. The images need to be normalized and the labels need to be one-hot encoded.  You'll get to apply what you learned and build a convolutional, max pooling, dropout, and fully connected layers.  At the end, you'll get to see your neural network's predictions on the sample images.\n",
    "## Get the Data\n",
    "Run the following cell to download the [CIFAR-10 dataset for python](https://www.cs.toronto.edu/~kriz/cifar-10-python.tar.gz)."
   ]
  },
  {
   "cell_type": "code",
   "execution_count": 1,
   "metadata": {},
   "outputs": [
    {
     "name": "stdout",
     "output_type": "stream",
     "text": [
      "All files found!\n"
     ]
    }
   ],
   "source": [
    "\"\"\"\n",
    "DON'T MODIFY ANYTHING IN THIS CELL THAT IS BELOW THIS LINE\n",
    "\"\"\"\n",
    "from urllib.request import urlretrieve\n",
    "from os.path import isfile, isdir\n",
    "from tqdm import tqdm\n",
    "import problem_unittests as tests\n",
    "import tarfile\n",
    "\n",
    "cifar10_dataset_folder_path = 'cifar-10-batches-py'\n",
    "\n",
    "# Use Floyd's cifar-10 dataset if present\n",
    "floyd_cifar10_location = '/input/cifar-10/python.tar.gz'\n",
    "if isfile(floyd_cifar10_location):\n",
    "    tar_gz_path = floyd_cifar10_location\n",
    "else:\n",
    "    tar_gz_path = 'cifar-10-python.tar.gz'\n",
    "\n",
    "class DLProgress(tqdm):\n",
    "    last_block = 0\n",
    "\n",
    "    def hook(self, block_num=1, block_size=1, total_size=None):\n",
    "        self.total = total_size\n",
    "        self.update((block_num - self.last_block) * block_size)\n",
    "        self.last_block = block_num\n",
    "\n",
    "if not isfile(tar_gz_path):\n",
    "    with DLProgress(unit='B', unit_scale=True, miniters=1, desc='CIFAR-10 Dataset') as pbar:\n",
    "        urlretrieve(\n",
    "            'https://www.cs.toronto.edu/~kriz/cifar-10-python.tar.gz',\n",
    "            tar_gz_path,\n",
    "            pbar.hook)\n",
    "\n",
    "if not isdir(cifar10_dataset_folder_path):\n",
    "    with tarfile.open(tar_gz_path) as tar:\n",
    "        tar.extractall()\n",
    "        tar.close()\n",
    "\n",
    "\n",
    "tests.test_folder_path(cifar10_dataset_folder_path)"
   ]
  },
  {
   "cell_type": "markdown",
   "metadata": {},
   "source": [
    "## Explore the Data\n",
    "The dataset is broken into batches to prevent your machine from running out of memory.  The CIFAR-10 dataset consists of 5 batches, named `data_batch_1`, `data_batch_2`, etc.. Each batch contains the labels and images that are one of the following:\n",
    "* airplane\n",
    "* automobile\n",
    "* bird\n",
    "* cat\n",
    "* deer\n",
    "* dog\n",
    "* frog\n",
    "* horse\n",
    "* ship\n",
    "* truck\n",
    "\n",
    "Understanding a dataset is part of making predictions on the data.  Play around with the code cell below by changing the `batch_id` and `sample_id`. The `batch_id` is the id for a batch (1-5). The `sample_id` is the id for a image and label pair in the batch.\n",
    "\n",
    "Ask yourself \"What are all possible labels?\", \"What is the range of values for the image data?\", \"Are the labels in order or random?\".  Answers to questions like these will help you preprocess the data and end up with better predictions."
   ]
  },
  {
   "cell_type": "code",
   "execution_count": 2,
   "metadata": {},
   "outputs": [
    {
     "name": "stdout",
     "output_type": "stream",
     "text": [
      "\n",
      "Stats of batch 2:\n",
      "Samples: 10000\n",
      "Label Counts: {0: 984, 1: 1007, 2: 1010, 3: 995, 4: 1010, 5: 988, 6: 1008, 7: 1026, 8: 987, 9: 985}\n",
      "First 20 Labels: [1, 6, 6, 8, 8, 3, 4, 6, 0, 6, 0, 3, 6, 6, 5, 4, 8, 3, 2, 6]\n",
      "\n",
      "Example of Image 50:\n",
      "Image - Min Value: 23 Max Value: 244\n",
      "Image - Shape: (32, 32, 3)\n",
      "Label - Label Id: 0 Name: airplane\n"
     ]
    },
    {
     "data": {
      "image/png": "[encoded data removed]",
      "text/plain": [
       "<matplotlib.figure.Figure at 0x1179f9080>"
      ]
     },
     "metadata": {
      "image/png": {
       "height": 250,
       "width": 253
      }
     },
     "output_type": "display_data"
    }
   ],
   "source": [
    "%matplotlib inline\n",
    "%config InlineBackend.figure_format = 'retina'\n",
    "\n",
    "import helper\n",
    "import numpy as np\n",
    "\n",
    "# Explore the dataset\n",
    "batch_id = 2\n",
    "sample_id = 50\n",
    "helper.display_stats(cifar10_dataset_folder_path, batch_id, sample_id)"
   ]
  },
  {
   "cell_type": "markdown",
   "metadata": {},
   "source": [
    "## Implement Preprocess Functions\n",
    "### Normalize\n",
    "In the cell below, implement the `normalize` function to take in image data, `x`, and return it as a normalized Numpy array. The values should be in the range of 0 to 1, inclusive.  The return object should be the same shape as `x`."
   ]
  },
  {
   "cell_type": "code",
   "execution_count": 3,
   "metadata": {},
   "outputs": [
    {
     "name": "stdout",
     "output_type": "stream",
     "text": [
      "Tests Passed\n"
     ]
    }
   ],
   "source": [
    "def normalize(x):\n",
    "    \"\"\"\n",
    "    Normalize a list of sample image data in the range of 0 to 1\n",
    "    : x: List of image data.  The image shape is (32, 32, 3)\n",
    "    : return: Numpy array of normalize data\n",
    "    \"\"\"\n",
    "    # TODO: Implement Function\n",
    "    min_x = np.min(x)\n",
    "    #max_x = np.max(x)\n",
    "    # instead of local max will use global max which is known in this case\n",
    "    # feedback from TA: The normalisation you've done is called local normalisation i.e. \n",
    "    # it would normalise based on image specific maximums. The problem with this method \n",
    "    # would be - if for any image, say a dog is against a brighter object - the normalised \n",
    "    # pixel values of a dog would be lower as compared to an image of the same dog photographed \n",
    "    # against a darker background, though essentially the pixel values of a dog have remained the same.\n",
    "    max_x = 255\n",
    "    return ( ( x - min_x ) / ( max_x - min_x ) )\n",
    "\n",
    "\"\"\"\n",
    "DON'T MODIFY ANYTHING IN THIS CELL THAT IS BELOW THIS LINE\n",
    "\"\"\"\n",
    "tests.test_normalize(normalize)"
   ]
  },
  {
   "cell_type": "markdown",
   "metadata": {},
   "source": [
    "### One-hot encode\n",
    "Just like the previous code cell, you'll be implementing a function for preprocessing.  This time, you'll implement the `one_hot_encode` function. The input, `x`, are a list of labels.  Implement the function to return the list of labels as One-Hot encoded Numpy array.  The possible values for labels are 0 to 9. The one-hot encoding function should return the same encoding for each value between each call to `one_hot_encode`.  Make sure to save the map of encodings outside the function.\n",
    "\n",
    "Hint: Don't reinvent the wheel."
   ]
  },
  {
   "cell_type": "code",
   "execution_count": 4,
   "metadata": {},
   "outputs": [
    {
     "name": "stdout",
     "output_type": "stream",
     "text": [
      "Tests Passed\n"
     ]
    }
   ],
   "source": [
    "from sklearn import preprocessing\n",
    "def one_hot_encode(x):\n",
    "    \"\"\"\n",
    "    One hot encode a list of sample labels. Return a one-hot encoded vector for each label.\n",
    "    : x: List of sample Labels\n",
    "    : return: Numpy array of one-hot encoded labels\n",
    "    \"\"\"\n",
    "    #print(x)\n",
    "    # append 10 elements representing 10 classes 0-9 to force encoder to always encode 10 classes\n",
    "    # encoded elements will be removed before function returns result\n",
    "    x = np.concatenate((x, range(10)))\n",
    "    # Create encoder using sklearn lablebinarizer preprocessing method\n",
    "    lb = preprocessing.LabelBinarizer()\n",
    "    # finds the classes and assigns one-hot vectors \n",
    "    lb.fit(x)\n",
    "    # transform the labels into one-hot encoded vectors\n",
    "    x = lb.transform(x)\n",
    "    # remove elements added to end of input array to enforce encoding of 10 classes\n",
    "    x = x[:-10]\n",
    "    #print(x)\n",
    "    return x\n",
    "\n",
    "\"\"\"\n",
    "DON'T MODIFY ANYTHING IN THIS CELL THAT IS BELOW THIS LINE\n",
    "\"\"\"\n",
    "tests.test_one_hot_encode(one_hot_encode)"
   ]
  },
  {
   "cell_type": "markdown",
   "metadata": {},
   "source": [
    "### Randomize Data\n",
    "As you saw from exploring the data above, the order of the samples are randomized.  It doesn't hurt to randomize it again, but you don't need to for this dataset."
   ]
  },
  {
   "cell_type": "markdown",
   "metadata": {},
   "source": [
    "## Preprocess all the data and save it\n",
    "Running the code cell below will preprocess all the CIFAR-10 data and save it to file. The code below also uses 10% of the training data for validation."
   ]
  },
  {
   "cell_type": "code",
   "execution_count": 5,
   "metadata": {
    "collapsed": true
   },
   "outputs": [],
   "source": [
    "\"\"\"\n",
    "DON'T MODIFY ANYTHING IN THIS CELL\n",
    "\"\"\"\n",
    "# Preprocess Training, Validation, and Testing Data\n",
    "helper.preprocess_and_save_data(cifar10_dataset_folder_path, normalize, one_hot_encode)"
   ]
  },
  {
   "cell_type": "markdown",
   "metadata": {},
   "source": [
    "# Check Point\n",
    "This is your first checkpoint.  If you ever decide to come back to this notebook or have to restart the notebook, you can start from here.  The preprocessed data has been saved to disk."
   ]
  },
  {
   "cell_type": "code",
   "execution_count": 6,
   "metadata": {
    "collapsed": true
   },
   "outputs": [],
   "source": [
    "\"\"\"\n",
    "DON'T MODIFY ANYTHING IN THIS CELL\n",
    "\"\"\"\n",
    "import pickle\n",
    "import problem_unittests as tests\n",
    "import helper\n",
    "\n",
    "# Load the Preprocessed Validation data\n",
    "valid_features, valid_labels = pickle.load(open('preprocess_validation.p', mode='rb'))"
   ]
  },
  {
   "cell_type": "markdown",
   "metadata": {},
   "source": [
    "## Build the network\n",
    "For the neural network, you'll build each layer into a function.  Most of the code you've seen has been outside of functions. To test your code more thoroughly, we require that you put each layer in a function.  This allows us to give you better feedback and test for simple mistakes using our unittests before you submit your project.\n",
    "\n",
    ">**Note:** If you're finding it hard to dedicate enough time for this course each week, we've provided a small shortcut to this part of the project. In the next couple of problems, you'll have the option to use classes from the [TensorFlow Layers](https://www.tensorflow.org/api_docs/python/tf/layers) or [TensorFlow Layers (contrib)](https://www.tensorflow.org/api_guides/python/contrib.layers) packages to build each layer, except the layers you build in the \"Convolutional and Max Pooling Layer\" section.  TF Layers is similar to Keras's and TFLearn's abstraction to layers, so it's easy to pickup.\n",
    "\n",
    ">However, if you would like to get the most out of this course, try to solve all the problems _without_ using anything from the TF Layers packages. You **can** still use classes from other packages that happen to have the same name as ones you find in TF Layers! For example, instead of using the TF Layers version of the `conv2d` class, [tf.layers.conv2d](https://www.tensorflow.org/api_docs/python/tf/layers/conv2d), you would want to use the TF Neural Network version of `conv2d`, [tf.nn.conv2d](https://www.tensorflow.org/api_docs/python/tf/nn/conv2d). \n",
    "\n",
    "Let's begin!\n",
    "\n",
    "### Input\n",
    "The neural network needs to read the image data, one-hot encoded labels, and dropout keep probability. Implement the following functions\n",
    "* Implement `neural_net_image_input`\n",
    " * Return a [TF Placeholder](https://www.tensorflow.org/api_docs/python/tf/placeholder)\n",
    " * Set the shape using `image_shape` with batch size set to `None`.\n",
    " * Name the TensorFlow placeholder \"x\" using the TensorFlow `name` parameter in the [TF Placeholder](https://www.tensorflow.org/api_docs/python/tf/placeholder).\n",
    "* Implement `neural_net_label_input`\n",
    " * Return a [TF Placeholder](https://www.tensorflow.org/api_docs/python/tf/placeholder)\n",
    " * Set the shape using `n_classes` with batch size set to `None`.\n",
    " * Name the TensorFlow placeholder \"y\" using the TensorFlow `name` parameter in the [TF Placeholder](https://www.tensorflow.org/api_docs/python/tf/placeholder).\n",
    "* Implement `neural_net_keep_prob_input`\n",
    " * Return a [TF Placeholder](https://www.tensorflow.org/api_docs/python/tf/placeholder) for dropout keep probability.\n",
    " * Name the TensorFlow placeholder \"keep_prob\" using the TensorFlow `name` parameter in the [TF Placeholder](https://www.tensorflow.org/api_docs/python/tf/placeholder).\n",
    "\n",
    "These names will be used at the end of the project to load your saved model.\n",
    "\n",
    "Note: `None` for shapes in TensorFlow allow for a dynamic size."
   ]
  },
  {
   "cell_type": "code",
   "execution_count": 7,
   "metadata": {},
   "outputs": [
    {
     "name": "stdout",
     "output_type": "stream",
     "text": [
      "Image Input Tests Passed.\n",
      "Label Input Tests Passed.\n",
      "Keep Prob Tests Passed.\n"
     ]
    }
   ],
   "source": [
    "import tensorflow as tf\n",
    "\n",
    "def neural_net_image_input(image_shape):\n",
    "    \"\"\"\n",
    "    Return a Tensor for a batch of image input\n",
    "    : image_shape: Shape of the images\n",
    "    : return: Tensor for image input.\n",
    "    \"\"\"\n",
    "    # TODO: Implement Function\n",
    "    return tf.placeholder(tf.float32, shape=(None, 32, 32, 3), name=\"x\")\n",
    "\n",
    "def neural_net_label_input(n_classes):\n",
    "    \"\"\"\n",
    "    Return a Tensor for a batch of label input\n",
    "    : n_classes: Number of classes\n",
    "    : return: Tensor for label input.\n",
    "    \"\"\"\n",
    "    # TODO: Implement Function\n",
    "    return tf.placeholder(tf.float32, shape=(None, 10), name=\"y\")\n",
    "\n",
    "def neural_net_keep_prob_input():\n",
    "    \"\"\"\n",
    "    Return a Tensor for keep probability\n",
    "    : return: Tensor for keep probability.\n",
    "    \"\"\"\n",
    "    # TODO: Implement Function\n",
    "    return tf.placeholder(tf.float32, shape=None, name=\"keep_prob\")\n",
    "\n",
    "\n",
    "\"\"\"\n",
    "DON'T MODIFY ANYTHING IN THIS CELL THAT IS BELOW THIS LINE\n",
    "\"\"\"\n",
    "tf.reset_default_graph()\n",
    "tests.test_nn_image_inputs(neural_net_image_input)\n",
    "tests.test_nn_label_inputs(neural_net_label_input)\n",
    "tests.test_nn_keep_prob_inputs(neural_net_keep_prob_input)"
   ]
  },
  {
   "cell_type": "markdown",
   "metadata": {},
   "source": [
    "### Convolution and Max Pooling Layer\n",
    "Convolution layers have a lot of success with images. For this code cell, you should implement the function `conv2d_maxpool` to apply convolution then max pooling:\n",
    "* Create the weight and bias using `conv_ksize`, `conv_num_outputs` and the shape of `x_tensor`.\n",
    "* Apply a convolution to `x_tensor` using weight and `conv_strides`.\n",
    " * We recommend you use same padding, but you're welcome to use any padding.\n",
    "* Add bias\n",
    "* Add a nonlinear activation to the convolution.\n",
    "* Apply Max Pooling using `pool_ksize` and `pool_strides`.\n",
    " * We recommend you use same padding, but you're welcome to use any padding.\n",
    "\n",
    "**Note:** You **can't** use [TensorFlow Layers](https://www.tensorflow.org/api_docs/python/tf/layers) or [TensorFlow Layers (contrib)](https://www.tensorflow.org/api_guides/python/contrib.layers) for **this** layer, but you can still use TensorFlow's [Neural Network](https://www.tensorflow.org/api_docs/python/tf/nn) package. You may still use the shortcut option for all the **other** layers."
   ]
  },
  {
   "cell_type": "code",
   "execution_count": 8,
   "metadata": {},
   "outputs": [
    {
     "name": "stdout",
     "output_type": "stream",
     "text": [
      "Tests Passed\n"
     ]
    }
   ],
   "source": [
    "tf.set_random_seed(1234)\n",
    "# defining batch_size to prevent compilation error; variable will be overriden with proper value at run time\n",
    "batch_size = 1\n",
    "\n",
    "def conv2d_maxpool(x_tensor, conv_num_outputs, conv_ksize, conv_strides, pool_ksize, pool_strides):\n",
    "    \"\"\"\n",
    "    Apply convolution then max pooling to x_tensor\n",
    "    :param x_tensor: TensorFlow Tensor\n",
    "    :param conv_num_outputs: Number of outputs for the convolutional layer\n",
    "    :param conv_ksize: kernal size 2-D Tuple for the convolutional layer\n",
    "    :param conv_strides: Stride 2-D Tuple for convolution\n",
    "    :param pool_ksize: kernal size 2-D Tuple for pool\n",
    "    :param pool_strides: Stride 2-D Tuple for pool\n",
    "    : return: A tensor that represents convolution and max pooling of x_tensor\n",
    "    \"\"\"\n",
    "    # TODO: Implement Function\n",
    "    if 1 == 0:\n",
    "        print(\"In conv2d_maxpool(x_tensor, conv_num_outputs, conv_ksize, conv_strides, pool_ksize, pool_strides)\")\n",
    "        print(\"\\\n",
    "        \\t:x_tensor => {} \\n\\\n",
    "        \\t:Number of outputs for the convolutional layer => {} \\n\\\n",
    "        \\t:kernal size 2-D Tuple for the convolutional layer => {} \\n\\\n",
    "        \\t:Stride 2-D Tuple for convolution => {} \\n\\\n",
    "        \\t:kernal size 2-D Tuple for pool => {} \\n\\\n",
    "        \\t:Stride 2-D Tuple for pool => {}\\\n",
    "        \".format(x_tensor, conv_num_outputs, conv_ksize, conv_strides, pool_ksize, pool_strides))\n",
    "    W = tf.Variable(tf.truncated_normal([conv_ksize[0], conv_ksize[1], x_tensor.shape[3].value, conv_num_outputs],\\\n",
    "                                       stddev=0.05))\n",
    "    b = tf.Variable(tf.truncated_normal([conv_num_outputs],stddev=0.05))\n",
    "    x = tf.nn.conv2d(x_tensor, W, strides=[1, conv_strides[0], conv_strides[1], 1], padding='SAME')\n",
    "    x = tf.nn.bias_add(x, b)\n",
    "    x = tf.nn.relu(x)\n",
    "    # apply batch normalization after conv layer before maxpool so that gradients don't overflow while training\n",
    "    #x = normalize(x)\n",
    "    x = tf.nn.max_pool(x, ksize=[1, pool_ksize[0], pool_ksize[1], 1], \\\n",
    "                       strides=[1, pool_strides[0], pool_strides[1], 1], \\\n",
    "                       padding='SAME')\n",
    "    return x #normalize(x)\n",
    "\n",
    "\n",
    "\"\"\"\n",
    "DON'T MODIFY ANYTHING IN THIS CELL THAT IS BELOW THIS LINE\n",
    "\"\"\"\n",
    "tests.test_con_pool(conv2d_maxpool)"
   ]
  },
  {
   "cell_type": "markdown",
   "metadata": {},
   "source": [
    "### Flatten Layer\n",
    "Implement the `flatten` function to change the dimension of `x_tensor` from a 4-D tensor to a 2-D tensor.  The output should be the shape (*Batch Size*, *Flattened Image Size*). Shortcut option: you can use classes from the [TensorFlow Layers](https://www.tensorflow.org/api_docs/python/tf/layers) or [TensorFlow Layers (contrib)](https://www.tensorflow.org/api_guides/python/contrib.layers) packages for this layer. For more of a challenge, only use other TensorFlow packages."
   ]
  },
  {
   "cell_type": "code",
   "execution_count": 9,
   "metadata": {},
   "outputs": [
    {
     "name": "stdout",
     "output_type": "stream",
     "text": [
      "Tests Passed\n"
     ]
    }
   ],
   "source": [
    "def flatten(x_tensor):\n",
    "    \"\"\"\n",
    "    Flatten x_tensor to (Batch Size, Flattened Image Size)\n",
    "    : x_tensor: A tensor of size (Batch Size, ...), where ... are the image dimensions.\n",
    "    : return: A tensor of size (Batch Size, Flattened Image Size).\n",
    "    \"\"\"\n",
    "    # TODO: Implement Function\n",
    "    if 1 == 0:\n",
    "        print(\"In flatten(x_tensor)\")\n",
    "        print(\"\\t:x_tensor => {}\".format(x_tensor))\n",
    "    h = x_tensor.get_shape()[1].value\n",
    "    w = x_tensor.get_shape()[2].value\n",
    "    d = x_tensor.get_shape()[3].value\n",
    "    return tf.reshape(x_tensor, [-1, h*w*d])\n",
    "\n",
    "\n",
    "\"\"\"\n",
    "DON'T MODIFY ANYTHING IN THIS CELL THAT IS BELOW THIS LINE\n",
    "\"\"\"\n",
    "tests.test_flatten(flatten)"
   ]
  },
  {
   "cell_type": "markdown",
   "metadata": {},
   "source": [
    "### Fully-Connected Layer\n",
    "Implement the `fully_conn` function to apply a fully connected layer to `x_tensor` with the shape (*Batch Size*, *num_outputs*). Shortcut option: you can use classes from the [TensorFlow Layers](https://www.tensorflow.org/api_docs/python/tf/layers) or [TensorFlow Layers (contrib)](https://www.tensorflow.org/api_guides/python/contrib.layers) packages for this layer. For more of a challenge, only use other TensorFlow packages."
   ]
  },
  {
   "cell_type": "code",
   "execution_count": 10,
   "metadata": {},
   "outputs": [
    {
     "name": "stdout",
     "output_type": "stream",
     "text": [
      "Tests Passed\n"
     ]
    }
   ],
   "source": [
    "def fully_conn(x_tensor, num_outputs):\n",
    "    \"\"\"\n",
    "    Apply a fully connected layer to x_tensor using weight and bias\n",
    "    : x_tensor: A 2-D tensor where the first dimension is batch size.\n",
    "    : num_outputs: The number of output that the new tensor should be.\n",
    "    : return: A 2-D tensor where the second dimension is num_outputs.\n",
    "    \"\"\"\n",
    "    # TODO: Implement Function\n",
    "    if 1 == 0:\n",
    "        print(\"In fully_conn(x_tensor, num_outputs)\")\n",
    "        print(\"\\t:x_tensor => {} \\n\\\n",
    "        \\t:The number of output that the new tensor should be => {}\\\n",
    "        \".format(x_tensor, num_outputs))\n",
    "    W = tf.Variable(tf.truncated_normal([x_tensor.get_shape()[1].value, num_outputs]))\n",
    "    b = tf.Variable(tf.truncated_normal([num_outputs]))\n",
    "    x = tf.matmul(x_tensor, W)\n",
    "    x = tf.add(x, b)\n",
    "    x = tf.nn.relu(x)\n",
    "    return x #normalize(x)\n",
    "\n",
    "\n",
    "\"\"\"\n",
    "DON'T MODIFY ANYTHING IN THIS CELL THAT IS BELOW THIS LINE\n",
    "\"\"\"\n",
    "tests.test_fully_conn(fully_conn)"
   ]
  },
  {
   "cell_type": "markdown",
   "metadata": {},
   "source": [
    "### Output Layer\n",
    "Implement the `output` function to apply a fully connected layer to `x_tensor` with the shape (*Batch Size*, *num_outputs*). Shortcut option: you can use classes from the [TensorFlow Layers](https://www.tensorflow.org/api_docs/python/tf/layers) or [TensorFlow Layers (contrib)](https://www.tensorflow.org/api_guides/python/contrib.layers) packages for this layer. For more of a challenge, only use other TensorFlow packages.\n",
    "\n",
    "**Note:** Activation, softmax, or cross entropy should **not** be applied to this."
   ]
  },
  {
   "cell_type": "code",
   "execution_count": 11,
   "metadata": {},
   "outputs": [
    {
     "name": "stdout",
     "output_type": "stream",
     "text": [
      "Tests Passed\n"
     ]
    }
   ],
   "source": [
    "def output(x_tensor, num_outputs):\n",
    "    \"\"\"\n",
    "    Apply a output layer to x_tensor using weight and bias\n",
    "    : x_tensor: A 2-D tensor where the first dimension is batch size.\n",
    "    : num_outputs: The number of output that the new tensor should be.\n",
    "    : return: A 2-D tensor where the second dimension is num_outputs.\n",
    "    \"\"\"\n",
    "    # TODO: Implement Function\n",
    "    if 1 == 0:\n",
    "        print(\"In output(x_tensor, num_outputs)\")\n",
    "        print(\"\\t:x_tensor => {} \\n\\\n",
    "        \\t:The number of output that the new tensor should be => {}\\\n",
    "        \".format(x_tensor, num_outputs))\n",
    "    W = tf.Variable(tf.truncated_normal([x_tensor.get_shape()[1].value, num_outputs]))\n",
    "    b = tf.Variable(tf.truncated_normal([num_outputs]))\n",
    "    out = tf.matmul(x_tensor, W)\n",
    "    out = tf.add(out, b)\n",
    "    return out\n",
    "\n",
    "\n",
    "\"\"\"\n",
    "DON'T MODIFY ANYTHING IN THIS CELL THAT IS BELOW THIS LINE\n",
    "\"\"\"\n",
    "tests.test_output(output)"
   ]
  },
  {
   "cell_type": "markdown",
   "metadata": {},
   "source": [
    "### Create Convolutional Model\n",
    "Implement the function `conv_net` to create a convolutional neural network model. The function takes in a batch of images, `x`, and outputs logits.  Use the layers you created above to create this model:\n",
    "\n",
    "* Apply 1, 2, or 3 Convolution and Max Pool layers\n",
    "* Apply a Flatten Layer\n",
    "* Apply 1, 2, or 3 Fully Connected Layers\n",
    "* Apply an Output Layer\n",
    "* Return the output\n",
    "* Apply [TensorFlow's Dropout](https://www.tensorflow.org/api_docs/python/tf/nn/dropout) to one or more layers in the model using `keep_prob`. "
   ]
  },
  {
   "cell_type": "code",
   "execution_count": 12,
   "metadata": {},
   "outputs": [
    {
     "name": "stdout",
     "output_type": "stream",
     "text": [
      "Neural Network Built!\n"
     ]
    }
   ],
   "source": [
    "def conv_net(x, keep_prob):\n",
    "    \"\"\"\n",
    "    Create a convolutional neural network model\n",
    "    : x: Placeholder tensor that holds image data.\n",
    "    : keep_prob: Placeholder tensor that hold dropout keep probability.\n",
    "    : return: Tensor that represents logits\n",
    "    \"\"\"\n",
    "\n",
    "    # TODO: Apply 1, 2, or 3 Convolution and Max Pool layers\n",
    "    #    Play around with different number of outputs, kernel size and stride\n",
    "    # Function Definition from Above:\n",
    "    #    conv2d_maxpool(x_tensor, conv_num_outputs, conv_ksize, conv_strides, pool_ksize, pool_strides)\n",
    "    x = conv2d_maxpool(x, 16, (1,1), (1,1), (2,2), (2,2))\n",
    "    #x = conv2d_maxpool(x, 32, (5,5), (2,2), (2,2), (2,2))\n",
    "    #x = conv2d_maxpool(x, 64, (5,5), (3,3), (2,2), (2,2))\n",
    "    x = conv2d_maxpool(x, 32, (5,5), (2,2), (2,2), (2,2))\n",
    "    x = conv2d_maxpool(x, 64, (5,5), (4,4), (2,2), (2,2))\n",
    "    \n",
    "    # TODO: Apply a Flatten Layer\n",
    "    # Function Definition from Above:\n",
    "    #   flatten(x_tensor)\n",
    "    x = flatten(x)\n",
    "\n",
    "    # TODO: Apply 1, 2, or 3 Fully Connected Layers\n",
    "    #    Play around with different number of outputs\n",
    "    # Function Definition from Above:\n",
    "    #   fully_conn(x_tensor, num_outputs)\n",
    "    x = fully_conn(x, 2048)\n",
    "    x = tf.nn.dropout(x, keep_prob)\n",
    "    \n",
    "    # TODO: Apply an Output Layer\n",
    "    #    Set this to the number of classes\n",
    "    # Function Definition from Above:\n",
    "    #   output(x_tensor, num_outputs)\n",
    "    x = output(x, 10)    \n",
    "    \n",
    "    # TODO: return output\n",
    "    return x\n",
    "\n",
    "\n",
    "\"\"\"\n",
    "DON'T MODIFY ANYTHING IN THIS CELL THAT IS BELOW THIS LINE\n",
    "\"\"\"\n",
    "\n",
    "##############################\n",
    "## Build the Neural Network ##\n",
    "##############################\n",
    "\n",
    "# Remove previous weights, bias, inputs, etc..\n",
    "tf.reset_default_graph()\n",
    "\n",
    "# Inputs\n",
    "x = neural_net_image_input((32, 32, 3))\n",
    "y = neural_net_label_input(10)\n",
    "keep_prob = neural_net_keep_prob_input()\n",
    "\n",
    "# Model\n",
    "logits = conv_net(x, keep_prob)\n",
    "\n",
    "# Name logits Tensor, so that is can be loaded from disk after training\n",
    "logits = tf.identity(logits, name='logits')\n",
    "\n",
    "# Loss and Optimizer\n",
    "cost = tf.reduce_mean(tf.nn.softmax_cross_entropy_with_logits(logits=logits, labels=y))\n",
    "optimizer = tf.train.AdamOptimizer().minimize(cost)\n",
    "\n",
    "# Accuracy\n",
    "correct_pred = tf.equal(tf.argmax(logits, 1), tf.argmax(y, 1))\n",
    "accuracy = tf.reduce_mean(tf.cast(correct_pred, tf.float32), name='accuracy')\n",
    "\n",
    "tests.test_conv_net(conv_net)"
   ]
  },
  {
   "cell_type": "markdown",
   "metadata": {},
   "source": [
    "## Train the Neural Network\n",
    "### Single Optimization\n",
    "Implement the function `train_neural_network` to do a single optimization.  The optimization should use `optimizer` to optimize in `session` with a `feed_dict` of the following:\n",
    "* `x` for image input\n",
    "* `y` for labels\n",
    "* `keep_prob` for keep probability for dropout\n",
    "\n",
    "This function will be called for each batch, so `tf.global_variables_initializer()` has already been called.\n",
    "\n",
    "Note: Nothing needs to be returned. This function is only optimizing the neural network."
   ]
  },
  {
   "cell_type": "code",
   "execution_count": 13,
   "metadata": {},
   "outputs": [
    {
     "name": "stdout",
     "output_type": "stream",
     "text": [
      "Tests Passed\n"
     ]
    }
   ],
   "source": [
    "def train_neural_network(session, optimizer, keep_probability, feature_batch, label_batch):\n",
    "    \"\"\"\n",
    "    Optimize the session on a batch of images and labels\n",
    "    : session: Current TensorFlow session\n",
    "    : optimizer: TensorFlow optimizer function\n",
    "    : keep_probability: keep probability\n",
    "    : feature_batch: Batch of Numpy image data\n",
    "    : label_batch: Batch of Numpy label data\n",
    "    \"\"\"\n",
    "    # TODO: Implement Function\n",
    "    session.run(optimizer, feed_dict={x: feature_batch, y: label_batch, keep_prob: keep_probability})\n",
    "\n",
    "\n",
    "\"\"\"\n",
    "DON'T MODIFY ANYTHING IN THIS CELL THAT IS BELOW THIS LINE\n",
    "\"\"\"\n",
    "tests.test_train_nn(train_neural_network)"
   ]
  },
  {
   "cell_type": "markdown",
   "metadata": {},
   "source": [
    "### Show Stats\n",
    "Implement the function `print_stats` to print loss and validation accuracy.  Use the global variables `valid_features` and `valid_labels` to calculate validation accuracy.  Use a keep probability of `1.0` to calculate the loss and validation accuracy."
   ]
  },
  {
   "cell_type": "code",
   "execution_count": 14,
   "metadata": {
    "collapsed": true
   },
   "outputs": [],
   "source": [
    "def print_stats(session, feature_batch, label_batch, cost, accuracy):\n",
    "    \"\"\"\n",
    "    Print information about loss and validation accuracy\n",
    "    : session: Current TensorFlow session\n",
    "    : feature_batch: Batch of Numpy image data\n",
    "    : label_batch: Batch of Numpy label data\n",
    "    : cost: TensorFlow cost function\n",
    "    : accuracy: TensorFlow accuracy function\n",
    "    \"\"\"\n",
    "    # TODO: Implement Function\n",
    "    loss = session.run(cost, feed_dict={x: feature_batch, y: label_batch, keep_prob: 1.})\n",
    "    valid_acc = session.run(accuracy, feed_dict={x: valid_features, y: valid_labels, keep_prob: 1.})\n",
    "    print(\"Loss: {:>10.4f} Validation Accuracy: {:.6f}\".format(loss, valid_acc))"
   ]
  },
  {
   "cell_type": "markdown",
   "metadata": {},
   "source": [
    "### Hyperparameters\n",
    "Tune the following parameters:\n",
    "* Set `epochs` to the number of iterations until the network stops learning or start overfitting\n",
    "* Set `batch_size` to the highest number that your machine has memory for.  Most people set them to common sizes of memory:\n",
    " * 64\n",
    " * 128\n",
    " * 256\n",
    " * ...\n",
    "* Set `keep_probability` to the probability of keeping a node using dropout"
   ]
  },
  {
   "cell_type": "code",
   "execution_count": 15,
   "metadata": {
    "collapsed": true
   },
   "outputs": [],
   "source": [
    "# TODO: Tune Parameters\n",
    "epochs = 50\n",
    "batch_size = 128\n",
    "keep_probability = 0.7"
   ]
  },
  {
   "cell_type": "markdown",
   "metadata": {},
   "source": [
    "### Train on a Single CIFAR-10 Batch\n",
    "Instead of training the neural network on all the CIFAR-10 batches of data, let's use a single batch. This should save time while you iterate on the model to get a better accuracy.  Once the final validation accuracy is 50% or greater, run the model on all the data in the next section."
   ]
  },
  {
   "cell_type": "code",
   "execution_count": 16,
   "metadata": {},
   "outputs": [
    {
     "name": "stdout",
     "output_type": "stream",
     "text": [
      "Checking the Training on a Single Batch...\n",
      "Epoch  1, CIFAR-10 Batch 1:  Loss:     5.8788 Validation Accuracy: 0.200000\n",
      "Epoch  2, CIFAR-10 Batch 1:  Loss:     6.9282 Validation Accuracy: 0.246800\n",
      "Epoch  3, CIFAR-10 Batch 1:  Loss:     6.9534 Validation Accuracy: 0.332000\n",
      "Epoch  4, CIFAR-10 Batch 1:  Loss:     7.5108 Validation Accuracy: 0.353000\n",
      "Epoch  5, CIFAR-10 Batch 1:  Loss:     7.1407 Validation Accuracy: 0.382000\n",
      "Epoch  6, CIFAR-10 Batch 1:  Loss:     6.7647 Validation Accuracy: 0.400600\n",
      "Epoch  7, CIFAR-10 Batch 1:  Loss:     6.6356 Validation Accuracy: 0.422200\n",
      "Epoch  8, CIFAR-10 Batch 1:  Loss:     6.6956 Validation Accuracy: 0.432600\n",
      "Epoch  9, CIFAR-10 Batch 1:  Loss:     5.8921 Validation Accuracy: 0.453200\n",
      "Epoch 10, CIFAR-10 Batch 1:  Loss:     5.7861 Validation Accuracy: 0.452200\n",
      "Epoch 11, CIFAR-10 Batch 1:  Loss:     6.2799 Validation Accuracy: 0.460000\n",
      "Epoch 12, CIFAR-10 Batch 1:  Loss:     4.7863 Validation Accuracy: 0.466600\n",
      "Epoch 13, CIFAR-10 Batch 1:  Loss:     4.7395 Validation Accuracy: 0.470200\n",
      "Epoch 14, CIFAR-10 Batch 1:  Loss:     3.8634 Validation Accuracy: 0.484400\n",
      "Epoch 15, CIFAR-10 Batch 1:  Loss:     3.7519 Validation Accuracy: 0.486200\n",
      "Epoch 16, CIFAR-10 Batch 1:  Loss:     3.8363 Validation Accuracy: 0.488400\n",
      "Epoch 17, CIFAR-10 Batch 1:  Loss:     3.6451 Validation Accuracy: 0.490400\n",
      "Epoch 18, CIFAR-10 Batch 1:  Loss:     3.1821 Validation Accuracy: 0.479600\n",
      "Epoch 19, CIFAR-10 Batch 1:  Loss:     2.9679 Validation Accuracy: 0.495200\n",
      "Epoch 20, CIFAR-10 Batch 1:  Loss:     2.6003 Validation Accuracy: 0.491200\n",
      "Epoch 21, CIFAR-10 Batch 1:  Loss:     2.2158 Validation Accuracy: 0.489600\n",
      "Epoch 22, CIFAR-10 Batch 1:  Loss:     1.8154 Validation Accuracy: 0.489200\n",
      "Epoch 23, CIFAR-10 Batch 1:  Loss:     1.6646 Validation Accuracy: 0.493400\n",
      "Epoch 24, CIFAR-10 Batch 1:  Loss:     1.5572 Validation Accuracy: 0.479600\n",
      "Epoch 25, CIFAR-10 Batch 1:  Loss:     1.3587 Validation Accuracy: 0.496800\n",
      "Epoch 26, CIFAR-10 Batch 1:  Loss:     1.1592 Validation Accuracy: 0.492600\n",
      "Epoch 27, CIFAR-10 Batch 1:  Loss:     1.1374 Validation Accuracy: 0.486000\n",
      "Epoch 28, CIFAR-10 Batch 1:  Loss:     1.1103 Validation Accuracy: 0.491600\n",
      "Epoch 29, CIFAR-10 Batch 1:  Loss:     1.1683 Validation Accuracy: 0.499600\n",
      "Epoch 30, CIFAR-10 Batch 1:  Loss:     1.0777 Validation Accuracy: 0.506600\n",
      "Epoch 31, CIFAR-10 Batch 1:  Loss:     1.0536 Validation Accuracy: 0.507400\n",
      "Epoch 32, CIFAR-10 Batch 1:  Loss:     1.0262 Validation Accuracy: 0.508400\n",
      "Epoch 33, CIFAR-10 Batch 1:  Loss:     0.9578 Validation Accuracy: 0.508000\n",
      "Epoch 34, CIFAR-10 Batch 1:  Loss:     0.9990 Validation Accuracy: 0.510000\n",
      "Epoch 35, CIFAR-10 Batch 1:  Loss:     0.9738 Validation Accuracy: 0.503200\n",
      "Epoch 36, CIFAR-10 Batch 1:  Loss:     0.9601 Validation Accuracy: 0.518000\n",
      "Epoch 37, CIFAR-10 Batch 1:  Loss:     0.9776 Validation Accuracy: 0.519000\n",
      "Epoch 38, CIFAR-10 Batch 1:  Loss:     0.9006 Validation Accuracy: 0.516400\n",
      "Epoch 39, CIFAR-10 Batch 1:  Loss:     0.8593 Validation Accuracy: 0.508600\n",
      "Epoch 40, CIFAR-10 Batch 1:  Loss:     0.8877 Validation Accuracy: 0.520800\n",
      "Epoch 41, CIFAR-10 Batch 1:  Loss:     0.8851 Validation Accuracy: 0.523600\n",
      "Epoch 42, CIFAR-10 Batch 1:  Loss:     0.8862 Validation Accuracy: 0.515000\n",
      "Epoch 43, CIFAR-10 Batch 1:  Loss:     0.8582 Validation Accuracy: 0.521800\n",
      "Epoch 44, CIFAR-10 Batch 1:  Loss:     0.8272 Validation Accuracy: 0.518200\n",
      "Epoch 45, CIFAR-10 Batch 1:  Loss:     0.7957 Validation Accuracy: 0.512600\n",
      "Epoch 46, CIFAR-10 Batch 1:  Loss:     0.7912 Validation Accuracy: 0.521800\n",
      "Epoch 47, CIFAR-10 Batch 1:  Loss:     0.8032 Validation Accuracy: 0.520800\n",
      "Epoch 48, CIFAR-10 Batch 1:  Loss:     0.7860 Validation Accuracy: 0.519600\n",
      "Epoch 49, CIFAR-10 Batch 1:  Loss:     0.7758 Validation Accuracy: 0.516600\n",
      "Epoch 50, CIFAR-10 Batch 1:  Loss:     0.7723 Validation Accuracy: 0.521000\n"
     ]
    }
   ],
   "source": [
    "\"\"\"\n",
    "DON'T MODIFY ANYTHING IN THIS CELL\n",
    "\"\"\"\n",
    "print('Checking the Training on a Single Batch...')\n",
    "with tf.Session() as sess:\n",
    "    # Initializing the variables\n",
    "    sess.run(tf.global_variables_initializer())\n",
    "    \n",
    "    # Training cycle\n",
    "    for epoch in range(epochs):\n",
    "        batch_i = 1\n",
    "        for batch_features, batch_labels in helper.load_preprocess_training_batch(batch_i, batch_size):\n",
    "            train_neural_network(sess, optimizer, keep_probability, batch_features, batch_labels)\n",
    "        print('Epoch {:>2}, CIFAR-10 Batch {}:  '.format(epoch + 1, batch_i), end='')\n",
    "        print_stats(sess, batch_features, batch_labels, cost, accuracy)"
   ]
  },
  {
   "cell_type": "markdown",
   "metadata": {},
   "source": [
    "### Fully Train the Model\n",
    "Now that you got a good accuracy with a single CIFAR-10 batch, try it with all five batches."
   ]
  },
  {
   "cell_type": "code",
   "execution_count": 17,
   "metadata": {
    "scrolled": false
   },
   "outputs": [
    {
     "name": "stdout",
     "output_type": "stream",
     "text": [
      "Training...\n",
      "Epoch  1, CIFAR-10 Batch 1:  Loss:     4.2346 Validation Accuracy: 0.216600\n",
      "Epoch  1, CIFAR-10 Batch 2:  Loss:     4.5424 Validation Accuracy: 0.284800\n",
      "Epoch  1, CIFAR-10 Batch 3:  Loss:     3.8119 Validation Accuracy: 0.302000\n",
      "Epoch  1, CIFAR-10 Batch 4:  Loss:     4.7501 Validation Accuracy: 0.353600\n",
      "Epoch  1, CIFAR-10 Batch 5:  Loss:     5.2973 Validation Accuracy: 0.391200\n",
      "Epoch  2, CIFAR-10 Batch 1:  Loss:     7.4579 Validation Accuracy: 0.407200\n",
      "Epoch  2, CIFAR-10 Batch 2:  Loss:     6.5814 Validation Accuracy: 0.419400\n",
      "Epoch  2, CIFAR-10 Batch 3:  Loss:     3.4184 Validation Accuracy: 0.414800\n",
      "Epoch  2, CIFAR-10 Batch 4:  Loss:     3.4907 Validation Accuracy: 0.450200\n",
      "Epoch  2, CIFAR-10 Batch 5:  Loss:     5.1112 Validation Accuracy: 0.442800\n",
      "Epoch  3, CIFAR-10 Batch 1:  Loss:     5.4329 Validation Accuracy: 0.452600\n",
      "Epoch  3, CIFAR-10 Batch 2:  Loss:     3.6733 Validation Accuracy: 0.467800\n",
      "Epoch  3, CIFAR-10 Batch 3:  Loss:     2.8500 Validation Accuracy: 0.458400\n",
      "Epoch  3, CIFAR-10 Batch 4:  Loss:     2.6246 Validation Accuracy: 0.477800\n",
      "Epoch  3, CIFAR-10 Batch 5:  Loss:     3.3919 Validation Accuracy: 0.488200\n",
      "Epoch  4, CIFAR-10 Batch 1:  Loss:     3.3488 Validation Accuracy: 0.491600\n",
      "Epoch  4, CIFAR-10 Batch 2:  Loss:     2.5331 Validation Accuracy: 0.478400\n",
      "Epoch  4, CIFAR-10 Batch 3:  Loss:     1.4061 Validation Accuracy: 0.495400\n",
      "Epoch  4, CIFAR-10 Batch 4:  Loss:     1.3919 Validation Accuracy: 0.504800\n",
      "Epoch  4, CIFAR-10 Batch 5:  Loss:     1.9124 Validation Accuracy: 0.502400\n",
      "Epoch  5, CIFAR-10 Batch 1:  Loss:     1.6683 Validation Accuracy: 0.519800\n",
      "Epoch  5, CIFAR-10 Batch 2:  Loss:     1.2005 Validation Accuracy: 0.511400\n",
      "Epoch  5, CIFAR-10 Batch 3:  Loss:     1.0384 Validation Accuracy: 0.519400\n",
      "Epoch  5, CIFAR-10 Batch 4:  Loss:     1.0489 Validation Accuracy: 0.525000\n",
      "Epoch  5, CIFAR-10 Batch 5:  Loss:     1.4008 Validation Accuracy: 0.509000\n",
      "Epoch  6, CIFAR-10 Batch 1:  Loss:     1.3615 Validation Accuracy: 0.530600\n",
      "Epoch  6, CIFAR-10 Batch 2:  Loss:     1.2278 Validation Accuracy: 0.530200\n",
      "Epoch  6, CIFAR-10 Batch 3:  Loss:     0.9875 Validation Accuracy: 0.532000\n",
      "Epoch  6, CIFAR-10 Batch 4:  Loss:     1.0755 Validation Accuracy: 0.539000\n",
      "Epoch  6, CIFAR-10 Batch 5:  Loss:     1.4387 Validation Accuracy: 0.518800\n",
      "Epoch  7, CIFAR-10 Batch 1:  Loss:     1.2770 Validation Accuracy: 0.530400\n",
      "Epoch  7, CIFAR-10 Batch 2:  Loss:     1.1606 Validation Accuracy: 0.525600\n",
      "Epoch  7, CIFAR-10 Batch 3:  Loss:     0.9758 Validation Accuracy: 0.539800\n",
      "Epoch  7, CIFAR-10 Batch 4:  Loss:     1.0679 Validation Accuracy: 0.535000\n",
      "Epoch  7, CIFAR-10 Batch 5:  Loss:     1.4228 Validation Accuracy: 0.514400\n",
      "Epoch  8, CIFAR-10 Batch 1:  Loss:     1.2671 Validation Accuracy: 0.541800\n",
      "Epoch  8, CIFAR-10 Batch 2:  Loss:     1.1475 Validation Accuracy: 0.535400\n",
      "Epoch  8, CIFAR-10 Batch 3:  Loss:     0.9601 Validation Accuracy: 0.538800\n",
      "Epoch  8, CIFAR-10 Batch 4:  Loss:     1.0471 Validation Accuracy: 0.544000\n",
      "Epoch  8, CIFAR-10 Batch 5:  Loss:     1.3206 Validation Accuracy: 0.542200\n",
      "Epoch  9, CIFAR-10 Batch 1:  Loss:     1.1998 Validation Accuracy: 0.541000\n",
      "Epoch  9, CIFAR-10 Batch 2:  Loss:     1.0938 Validation Accuracy: 0.536600\n",
      "Epoch  9, CIFAR-10 Batch 3:  Loss:     0.9219 Validation Accuracy: 0.549200\n",
      "Epoch  9, CIFAR-10 Batch 4:  Loss:     1.0471 Validation Accuracy: 0.548000\n",
      "Epoch  9, CIFAR-10 Batch 5:  Loss:     1.3204 Validation Accuracy: 0.540800\n",
      "Epoch 10, CIFAR-10 Batch 1:  Loss:     1.1779 Validation Accuracy: 0.539600\n",
      "Epoch 10, CIFAR-10 Batch 2:  Loss:     1.0544 Validation Accuracy: 0.543200\n",
      "Epoch 10, CIFAR-10 Batch 3:  Loss:     0.9029 Validation Accuracy: 0.552200\n",
      "Epoch 10, CIFAR-10 Batch 4:  Loss:     0.9913 Validation Accuracy: 0.553600\n",
      "Epoch 10, CIFAR-10 Batch 5:  Loss:     1.2560 Validation Accuracy: 0.535600\n",
      "Epoch 11, CIFAR-10 Batch 1:  Loss:     1.1955 Validation Accuracy: 0.546200\n",
      "Epoch 11, CIFAR-10 Batch 2:  Loss:     1.0661 Validation Accuracy: 0.541800\n",
      "Epoch 11, CIFAR-10 Batch 3:  Loss:     0.9117 Validation Accuracy: 0.558400\n",
      "Epoch 11, CIFAR-10 Batch 4:  Loss:     1.0294 Validation Accuracy: 0.565800\n",
      "Epoch 11, CIFAR-10 Batch 5:  Loss:     1.2070 Validation Accuracy: 0.560800\n",
      "Epoch 12, CIFAR-10 Batch 1:  Loss:     1.2085 Validation Accuracy: 0.557800\n",
      "Epoch 12, CIFAR-10 Batch 2:  Loss:     1.0201 Validation Accuracy: 0.544200\n",
      "Epoch 12, CIFAR-10 Batch 3:  Loss:     0.8735 Validation Accuracy: 0.547600\n",
      "Epoch 12, CIFAR-10 Batch 4:  Loss:     0.9906 Validation Accuracy: 0.554800\n",
      "Epoch 12, CIFAR-10 Batch 5:  Loss:     1.1314 Validation Accuracy: 0.561200\n",
      "Epoch 13, CIFAR-10 Batch 1:  Loss:     1.1900 Validation Accuracy: 0.554600\n",
      "Epoch 13, CIFAR-10 Batch 2:  Loss:     0.9739 Validation Accuracy: 0.547800\n",
      "Epoch 13, CIFAR-10 Batch 3:  Loss:     0.8518 Validation Accuracy: 0.555200\n",
      "Epoch 13, CIFAR-10 Batch 4:  Loss:     1.0308 Validation Accuracy: 0.561600\n",
      "Epoch 13, CIFAR-10 Batch 5:  Loss:     1.1798 Validation Accuracy: 0.561400\n",
      "Epoch 14, CIFAR-10 Batch 1:  Loss:     1.1366 Validation Accuracy: 0.558800\n",
      "Epoch 14, CIFAR-10 Batch 2:  Loss:     0.9590 Validation Accuracy: 0.556600\n",
      "Epoch 14, CIFAR-10 Batch 3:  Loss:     0.8164 Validation Accuracy: 0.571000\n",
      "Epoch 14, CIFAR-10 Batch 4:  Loss:     1.0166 Validation Accuracy: 0.562400\n",
      "Epoch 14, CIFAR-10 Batch 5:  Loss:     1.1571 Validation Accuracy: 0.560200\n",
      "Epoch 15, CIFAR-10 Batch 1:  Loss:     1.0950 Validation Accuracy: 0.568600\n",
      "Epoch 15, CIFAR-10 Batch 2:  Loss:     0.9699 Validation Accuracy: 0.560600\n",
      "Epoch 15, CIFAR-10 Batch 3:  Loss:     0.7477 Validation Accuracy: 0.568400\n",
      "Epoch 15, CIFAR-10 Batch 4:  Loss:     0.9954 Validation Accuracy: 0.570400\n",
      "Epoch 15, CIFAR-10 Batch 5:  Loss:     1.1094 Validation Accuracy: 0.566200\n",
      "Epoch 16, CIFAR-10 Batch 1:  Loss:     1.1284 Validation Accuracy: 0.556400\n",
      "Epoch 16, CIFAR-10 Batch 2:  Loss:     0.8925 Validation Accuracy: 0.551200\n",
      "Epoch 16, CIFAR-10 Batch 3:  Loss:     0.7990 Validation Accuracy: 0.569000\n",
      "Epoch 16, CIFAR-10 Batch 4:  Loss:     0.9869 Validation Accuracy: 0.572200\n",
      "Epoch 16, CIFAR-10 Batch 5:  Loss:     1.0662 Validation Accuracy: 0.565200\n",
      "Epoch 17, CIFAR-10 Batch 1:  Loss:     1.0625 Validation Accuracy: 0.571600\n",
      "Epoch 17, CIFAR-10 Batch 2:  Loss:     0.8737 Validation Accuracy: 0.562600\n",
      "Epoch 17, CIFAR-10 Batch 3:  Loss:     0.8114 Validation Accuracy: 0.583000\n",
      "Epoch 17, CIFAR-10 Batch 4:  Loss:     0.9276 Validation Accuracy: 0.580200\n",
      "Epoch 17, CIFAR-10 Batch 5:  Loss:     1.0862 Validation Accuracy: 0.569400\n",
      "Epoch 18, CIFAR-10 Batch 1:  Loss:     1.0376 Validation Accuracy: 0.574800\n",
      "Epoch 18, CIFAR-10 Batch 2:  Loss:     0.8138 Validation Accuracy: 0.559000\n",
      "Epoch 18, CIFAR-10 Batch 3:  Loss:     0.7996 Validation Accuracy: 0.574200\n",
      "Epoch 18, CIFAR-10 Batch 4:  Loss:     0.8923 Validation Accuracy: 0.582200\n",
      "Epoch 18, CIFAR-10 Batch 5:  Loss:     1.0927 Validation Accuracy: 0.568800\n",
      "Epoch 19, CIFAR-10 Batch 1:  Loss:     0.9969 Validation Accuracy: 0.578600\n",
      "Epoch 19, CIFAR-10 Batch 2:  Loss:     0.7822 Validation Accuracy: 0.558200\n",
      "Epoch 19, CIFAR-10 Batch 3:  Loss:     0.7720 Validation Accuracy: 0.571400\n",
      "Epoch 19, CIFAR-10 Batch 4:  Loss:     0.9001 Validation Accuracy: 0.573000\n",
      "Epoch 19, CIFAR-10 Batch 5:  Loss:     1.0129 Validation Accuracy: 0.564000\n",
      "Epoch 20, CIFAR-10 Batch 1:  Loss:     0.9762 Validation Accuracy: 0.570800\n",
      "Epoch 20, CIFAR-10 Batch 2:  Loss:     0.7853 Validation Accuracy: 0.566400\n",
      "Epoch 20, CIFAR-10 Batch 3:  Loss:     0.7453 Validation Accuracy: 0.575600\n",
      "Epoch 20, CIFAR-10 Batch 4:  Loss:     0.8939 Validation Accuracy: 0.574800\n",
      "Epoch 20, CIFAR-10 Batch 5:  Loss:     1.0214 Validation Accuracy: 0.573000\n",
      "Epoch 21, CIFAR-10 Batch 1:  Loss:     0.9878 Validation Accuracy: 0.565400\n",
      "Epoch 21, CIFAR-10 Batch 2:  Loss:     0.7780 Validation Accuracy: 0.563200\n",
      "Epoch 21, CIFAR-10 Batch 3:  Loss:     0.7555 Validation Accuracy: 0.568200\n",
      "Epoch 21, CIFAR-10 Batch 4:  Loss:     0.8784 Validation Accuracy: 0.571200\n",
      "Epoch 21, CIFAR-10 Batch 5:  Loss:     1.0454 Validation Accuracy: 0.560800\n",
      "Epoch 22, CIFAR-10 Batch 1:  Loss:     0.9795 Validation Accuracy: 0.569000\n",
      "Epoch 22, CIFAR-10 Batch 2:  Loss:     0.7718 Validation Accuracy: 0.561400\n",
      "Epoch 22, CIFAR-10 Batch 3:  Loss:     0.7051 Validation Accuracy: 0.564400\n"
     ]
    },
    {
     "name": "stdout",
     "output_type": "stream",
     "text": [
      "Epoch 22, CIFAR-10 Batch 4:  Loss:     0.8406 Validation Accuracy: 0.583400\n",
      "Epoch 22, CIFAR-10 Batch 5:  Loss:     1.0001 Validation Accuracy: 0.575600\n",
      "Epoch 23, CIFAR-10 Batch 1:  Loss:     0.9489 Validation Accuracy: 0.578800\n",
      "Epoch 23, CIFAR-10 Batch 2:  Loss:     0.7736 Validation Accuracy: 0.566400\n",
      "Epoch 23, CIFAR-10 Batch 3:  Loss:     0.7072 Validation Accuracy: 0.577200\n",
      "Epoch 23, CIFAR-10 Batch 4:  Loss:     0.7987 Validation Accuracy: 0.569600\n",
      "Epoch 23, CIFAR-10 Batch 5:  Loss:     0.9781 Validation Accuracy: 0.574600\n",
      "Epoch 24, CIFAR-10 Batch 1:  Loss:     0.9635 Validation Accuracy: 0.578000\n",
      "Epoch 24, CIFAR-10 Batch 2:  Loss:     0.8155 Validation Accuracy: 0.557400\n",
      "Epoch 24, CIFAR-10 Batch 3:  Loss:     0.6658 Validation Accuracy: 0.578600\n",
      "Epoch 24, CIFAR-10 Batch 4:  Loss:     0.8206 Validation Accuracy: 0.578600\n",
      "Epoch 24, CIFAR-10 Batch 5:  Loss:     1.0224 Validation Accuracy: 0.568000\n",
      "Epoch 25, CIFAR-10 Batch 1:  Loss:     0.9280 Validation Accuracy: 0.575800\n",
      "Epoch 25, CIFAR-10 Batch 2:  Loss:     0.8159 Validation Accuracy: 0.553400\n",
      "Epoch 25, CIFAR-10 Batch 3:  Loss:     0.6637 Validation Accuracy: 0.587000\n",
      "Epoch 25, CIFAR-10 Batch 4:  Loss:     0.8242 Validation Accuracy: 0.575800\n",
      "Epoch 25, CIFAR-10 Batch 5:  Loss:     0.9606 Validation Accuracy: 0.571800\n",
      "Epoch 26, CIFAR-10 Batch 1:  Loss:     0.9171 Validation Accuracy: 0.580200\n",
      "Epoch 26, CIFAR-10 Batch 2:  Loss:     0.7641 Validation Accuracy: 0.548800\n",
      "Epoch 26, CIFAR-10 Batch 3:  Loss:     0.6775 Validation Accuracy: 0.587800\n",
      "Epoch 26, CIFAR-10 Batch 4:  Loss:     0.7977 Validation Accuracy: 0.589000\n",
      "Epoch 26, CIFAR-10 Batch 5:  Loss:     0.9880 Validation Accuracy: 0.578000\n",
      "Epoch 27, CIFAR-10 Batch 1:  Loss:     0.9454 Validation Accuracy: 0.577200\n",
      "Epoch 27, CIFAR-10 Batch 2:  Loss:     0.7444 Validation Accuracy: 0.567000\n",
      "Epoch 27, CIFAR-10 Batch 3:  Loss:     0.6817 Validation Accuracy: 0.590800\n",
      "Epoch 27, CIFAR-10 Batch 4:  Loss:     0.8254 Validation Accuracy: 0.585000\n",
      "Epoch 27, CIFAR-10 Batch 5:  Loss:     0.9737 Validation Accuracy: 0.577200\n",
      "Epoch 28, CIFAR-10 Batch 1:  Loss:     0.9239 Validation Accuracy: 0.572000\n",
      "Epoch 28, CIFAR-10 Batch 2:  Loss:     0.7558 Validation Accuracy: 0.568200\n",
      "Epoch 28, CIFAR-10 Batch 3:  Loss:     0.6437 Validation Accuracy: 0.592600\n",
      "Epoch 28, CIFAR-10 Batch 4:  Loss:     0.8291 Validation Accuracy: 0.590200\n",
      "Epoch 28, CIFAR-10 Batch 5:  Loss:     0.8825 Validation Accuracy: 0.586000\n",
      "Epoch 29, CIFAR-10 Batch 1:  Loss:     0.8921 Validation Accuracy: 0.583600\n",
      "Epoch 29, CIFAR-10 Batch 2:  Loss:     0.7616 Validation Accuracy: 0.557200\n",
      "Epoch 29, CIFAR-10 Batch 3:  Loss:     0.6631 Validation Accuracy: 0.590200\n",
      "Epoch 29, CIFAR-10 Batch 4:  Loss:     0.7732 Validation Accuracy: 0.582000\n",
      "Epoch 29, CIFAR-10 Batch 5:  Loss:     0.9417 Validation Accuracy: 0.574400\n",
      "Epoch 30, CIFAR-10 Batch 1:  Loss:     0.8326 Validation Accuracy: 0.585600\n",
      "Epoch 30, CIFAR-10 Batch 2:  Loss:     0.7386 Validation Accuracy: 0.575000\n",
      "Epoch 30, CIFAR-10 Batch 3:  Loss:     0.6370 Validation Accuracy: 0.584800\n",
      "Epoch 30, CIFAR-10 Batch 4:  Loss:     0.7729 Validation Accuracy: 0.585000\n",
      "Epoch 30, CIFAR-10 Batch 5:  Loss:     0.8831 Validation Accuracy: 0.583400\n",
      "Epoch 31, CIFAR-10 Batch 1:  Loss:     0.8197 Validation Accuracy: 0.590000\n",
      "Epoch 31, CIFAR-10 Batch 2:  Loss:     0.7356 Validation Accuracy: 0.581400\n",
      "Epoch 31, CIFAR-10 Batch 3:  Loss:     0.6468 Validation Accuracy: 0.581600\n",
      "Epoch 31, CIFAR-10 Batch 4:  Loss:     0.7718 Validation Accuracy: 0.576800\n",
      "Epoch 31, CIFAR-10 Batch 5:  Loss:     0.8698 Validation Accuracy: 0.585400\n",
      "Epoch 32, CIFAR-10 Batch 1:  Loss:     0.7873 Validation Accuracy: 0.592200\n",
      "Epoch 32, CIFAR-10 Batch 2:  Loss:     0.7385 Validation Accuracy: 0.584000\n",
      "Epoch 32, CIFAR-10 Batch 3:  Loss:     0.6016 Validation Accuracy: 0.580600\n",
      "Epoch 32, CIFAR-10 Batch 4:  Loss:     0.7122 Validation Accuracy: 0.586400\n",
      "Epoch 32, CIFAR-10 Batch 5:  Loss:     0.8871 Validation Accuracy: 0.581600\n",
      "Epoch 33, CIFAR-10 Batch 1:  Loss:     0.8229 Validation Accuracy: 0.586600\n",
      "Epoch 33, CIFAR-10 Batch 2:  Loss:     0.7016 Validation Accuracy: 0.583200\n",
      "Epoch 33, CIFAR-10 Batch 3:  Loss:     0.6053 Validation Accuracy: 0.579800\n",
      "Epoch 33, CIFAR-10 Batch 4:  Loss:     0.7034 Validation Accuracy: 0.591200\n",
      "Epoch 33, CIFAR-10 Batch 5:  Loss:     0.8182 Validation Accuracy: 0.583000\n",
      "Epoch 34, CIFAR-10 Batch 1:  Loss:     0.8190 Validation Accuracy: 0.592200\n",
      "Epoch 34, CIFAR-10 Batch 2:  Loss:     0.7190 Validation Accuracy: 0.591000\n",
      "Epoch 34, CIFAR-10 Batch 3:  Loss:     0.5771 Validation Accuracy: 0.587600\n",
      "Epoch 34, CIFAR-10 Batch 4:  Loss:     0.6960 Validation Accuracy: 0.578600\n",
      "Epoch 34, CIFAR-10 Batch 5:  Loss:     0.8601 Validation Accuracy: 0.569600\n",
      "Epoch 35, CIFAR-10 Batch 1:  Loss:     0.8154 Validation Accuracy: 0.595400\n",
      "Epoch 35, CIFAR-10 Batch 2:  Loss:     0.7135 Validation Accuracy: 0.580800\n",
      "Epoch 35, CIFAR-10 Batch 3:  Loss:     0.5828 Validation Accuracy: 0.594800\n",
      "Epoch 35, CIFAR-10 Batch 4:  Loss:     0.6875 Validation Accuracy: 0.579600\n",
      "Epoch 35, CIFAR-10 Batch 5:  Loss:     0.7989 Validation Accuracy: 0.587000\n",
      "Epoch 36, CIFAR-10 Batch 1:  Loss:     0.7729 Validation Accuracy: 0.595000\n",
      "Epoch 36, CIFAR-10 Batch 2:  Loss:     0.7466 Validation Accuracy: 0.589400\n",
      "Epoch 36, CIFAR-10 Batch 3:  Loss:     0.5869 Validation Accuracy: 0.584400\n",
      "Epoch 36, CIFAR-10 Batch 4:  Loss:     0.6450 Validation Accuracy: 0.594000\n",
      "Epoch 36, CIFAR-10 Batch 5:  Loss:     0.8480 Validation Accuracy: 0.586200\n",
      "Epoch 37, CIFAR-10 Batch 1:  Loss:     0.7846 Validation Accuracy: 0.591800\n",
      "Epoch 37, CIFAR-10 Batch 2:  Loss:     0.6832 Validation Accuracy: 0.590800\n",
      "Epoch 37, CIFAR-10 Batch 3:  Loss:     0.5329 Validation Accuracy: 0.590800\n",
      "Epoch 37, CIFAR-10 Batch 4:  Loss:     0.6676 Validation Accuracy: 0.595400\n",
      "Epoch 37, CIFAR-10 Batch 5:  Loss:     0.8275 Validation Accuracy: 0.594400\n",
      "Epoch 38, CIFAR-10 Batch 1:  Loss:     0.7566 Validation Accuracy: 0.594800\n",
      "Epoch 38, CIFAR-10 Batch 2:  Loss:     0.6748 Validation Accuracy: 0.595600\n",
      "Epoch 38, CIFAR-10 Batch 3:  Loss:     0.5591 Validation Accuracy: 0.599400\n",
      "Epoch 38, CIFAR-10 Batch 4:  Loss:     0.6001 Validation Accuracy: 0.596600\n",
      "Epoch 38, CIFAR-10 Batch 5:  Loss:     0.8044 Validation Accuracy: 0.588400\n",
      "Epoch 39, CIFAR-10 Batch 1:  Loss:     0.7156 Validation Accuracy: 0.584400\n",
      "Epoch 39, CIFAR-10 Batch 2:  Loss:     0.7340 Validation Accuracy: 0.591000\n",
      "Epoch 39, CIFAR-10 Batch 3:  Loss:     0.5303 Validation Accuracy: 0.577400\n",
      "Epoch 39, CIFAR-10 Batch 4:  Loss:     0.6097 Validation Accuracy: 0.585000\n",
      "Epoch 39, CIFAR-10 Batch 5:  Loss:     0.7276 Validation Accuracy: 0.594800\n",
      "Epoch 40, CIFAR-10 Batch 1:  Loss:     0.7287 Validation Accuracy: 0.594400\n",
      "Epoch 40, CIFAR-10 Batch 2:  Loss:     0.7045 Validation Accuracy: 0.600800\n",
      "Epoch 40, CIFAR-10 Batch 3:  Loss:     0.5184 Validation Accuracy: 0.595400\n",
      "Epoch 40, CIFAR-10 Batch 4:  Loss:     0.6235 Validation Accuracy: 0.588400\n",
      "Epoch 40, CIFAR-10 Batch 5:  Loss:     0.7437 Validation Accuracy: 0.591400\n",
      "Epoch 41, CIFAR-10 Batch 1:  Loss:     0.7360 Validation Accuracy: 0.600200\n",
      "Epoch 41, CIFAR-10 Batch 2:  Loss:     0.6636 Validation Accuracy: 0.600400\n",
      "Epoch 41, CIFAR-10 Batch 3:  Loss:     0.4888 Validation Accuracy: 0.588800\n",
      "Epoch 41, CIFAR-10 Batch 4:  Loss:     0.6186 Validation Accuracy: 0.581400\n",
      "Epoch 41, CIFAR-10 Batch 5:  Loss:     0.7116 Validation Accuracy: 0.596600\n",
      "Epoch 42, CIFAR-10 Batch 1:  Loss:     0.7644 Validation Accuracy: 0.603600\n",
      "Epoch 42, CIFAR-10 Batch 2:  Loss:     0.6358 Validation Accuracy: 0.600000\n",
      "Epoch 42, CIFAR-10 Batch 3:  Loss:     0.5089 Validation Accuracy: 0.599000\n",
      "Epoch 42, CIFAR-10 Batch 4:  Loss:     0.5462 Validation Accuracy: 0.592600\n",
      "Epoch 42, CIFAR-10 Batch 5:  Loss:     0.6825 Validation Accuracy: 0.601200\n",
      "Epoch 43, CIFAR-10 Batch 1:  Loss:     0.7458 Validation Accuracy: 0.591600\n",
      "Epoch 43, CIFAR-10 Batch 2:  Loss:     0.6216 Validation Accuracy: 0.606000\n",
      "Epoch 43, CIFAR-10 Batch 3:  Loss:     0.5147 Validation Accuracy: 0.585800\n",
      "Epoch 43, CIFAR-10 Batch 4:  Loss:     0.5898 Validation Accuracy: 0.595600\n",
      "Epoch 43, CIFAR-10 Batch 5:  Loss:     0.7008 Validation Accuracy: 0.600400\n",
      "Epoch 44, CIFAR-10 Batch 1:  Loss:     0.7492 Validation Accuracy: 0.597200\n"
     ]
    },
    {
     "name": "stdout",
     "output_type": "stream",
     "text": [
      "Epoch 44, CIFAR-10 Batch 2:  Loss:     0.6226 Validation Accuracy: 0.598200\n",
      "Epoch 44, CIFAR-10 Batch 3:  Loss:     0.5407 Validation Accuracy: 0.585400\n",
      "Epoch 44, CIFAR-10 Batch 4:  Loss:     0.6122 Validation Accuracy: 0.588600\n",
      "Epoch 44, CIFAR-10 Batch 5:  Loss:     0.6980 Validation Accuracy: 0.594400\n",
      "Epoch 45, CIFAR-10 Batch 1:  Loss:     0.7179 Validation Accuracy: 0.595400\n",
      "Epoch 45, CIFAR-10 Batch 2:  Loss:     0.6183 Validation Accuracy: 0.603000\n",
      "Epoch 45, CIFAR-10 Batch 3:  Loss:     0.5289 Validation Accuracy: 0.567600\n",
      "Epoch 45, CIFAR-10 Batch 4:  Loss:     0.5866 Validation Accuracy: 0.595800\n",
      "Epoch 45, CIFAR-10 Batch 5:  Loss:     0.6458 Validation Accuracy: 0.600400\n",
      "Epoch 46, CIFAR-10 Batch 1:  Loss:     0.7141 Validation Accuracy: 0.594000\n",
      "Epoch 46, CIFAR-10 Batch 2:  Loss:     0.6162 Validation Accuracy: 0.595000\n",
      "Epoch 46, CIFAR-10 Batch 3:  Loss:     0.4991 Validation Accuracy: 0.575200\n",
      "Epoch 46, CIFAR-10 Batch 4:  Loss:     0.5452 Validation Accuracy: 0.603800\n",
      "Epoch 46, CIFAR-10 Batch 5:  Loss:     0.6208 Validation Accuracy: 0.600400\n",
      "Epoch 47, CIFAR-10 Batch 1:  Loss:     0.7140 Validation Accuracy: 0.592400\n",
      "Epoch 47, CIFAR-10 Batch 2:  Loss:     0.6515 Validation Accuracy: 0.589000\n",
      "Epoch 47, CIFAR-10 Batch 3:  Loss:     0.5025 Validation Accuracy: 0.574000\n",
      "Epoch 47, CIFAR-10 Batch 4:  Loss:     0.6230 Validation Accuracy: 0.588200\n",
      "Epoch 47, CIFAR-10 Batch 5:  Loss:     0.6119 Validation Accuracy: 0.601400\n",
      "Epoch 48, CIFAR-10 Batch 1:  Loss:     0.6519 Validation Accuracy: 0.590800\n",
      "Epoch 48, CIFAR-10 Batch 2:  Loss:     0.5905 Validation Accuracy: 0.607200\n",
      "Epoch 48, CIFAR-10 Batch 3:  Loss:     0.4205 Validation Accuracy: 0.592400\n",
      "Epoch 48, CIFAR-10 Batch 4:  Loss:     0.5699 Validation Accuracy: 0.589000\n",
      "Epoch 48, CIFAR-10 Batch 5:  Loss:     0.6287 Validation Accuracy: 0.594400\n",
      "Epoch 49, CIFAR-10 Batch 1:  Loss:     0.6937 Validation Accuracy: 0.592000\n",
      "Epoch 49, CIFAR-10 Batch 2:  Loss:     0.6021 Validation Accuracy: 0.598600\n",
      "Epoch 49, CIFAR-10 Batch 3:  Loss:     0.4502 Validation Accuracy: 0.587600\n",
      "Epoch 49, CIFAR-10 Batch 4:  Loss:     0.5276 Validation Accuracy: 0.603200\n",
      "Epoch 49, CIFAR-10 Batch 5:  Loss:     0.5820 Validation Accuracy: 0.596600\n",
      "Epoch 50, CIFAR-10 Batch 1:  Loss:     0.6197 Validation Accuracy: 0.594000\n",
      "Epoch 50, CIFAR-10 Batch 2:  Loss:     0.5889 Validation Accuracy: 0.598400\n",
      "Epoch 50, CIFAR-10 Batch 3:  Loss:     0.4622 Validation Accuracy: 0.587000\n",
      "Epoch 50, CIFAR-10 Batch 4:  Loss:     0.5831 Validation Accuracy: 0.592000\n",
      "Epoch 50, CIFAR-10 Batch 5:  Loss:     0.5154 Validation Accuracy: 0.604200\n"
     ]
    }
   ],
   "source": [
    "\"\"\"\n",
    "DON'T MODIFY ANYTHING IN THIS CELL\n",
    "\"\"\"\n",
    "save_model_path = './image_classification'\n",
    "\n",
    "print('Training...')\n",
    "with tf.Session() as sess:\n",
    "    # Initializing the variables\n",
    "    sess.run(tf.global_variables_initializer())\n",
    "    \n",
    "    # Training cycle\n",
    "    for epoch in range(epochs):\n",
    "        # Loop over all batches\n",
    "        n_batches = 5\n",
    "        for batch_i in range(1, n_batches + 1):\n",
    "            for batch_features, batch_labels in helper.load_preprocess_training_batch(batch_i, batch_size):\n",
    "                train_neural_network(sess, optimizer, keep_probability, batch_features, batch_labels)\n",
    "            print('Epoch {:>2}, CIFAR-10 Batch {}:  '.format(epoch + 1, batch_i), end='')\n",
    "            print_stats(sess, batch_features, batch_labels, cost, accuracy)\n",
    "            \n",
    "    # Save Model\n",
    "    saver = tf.train.Saver()\n",
    "    save_path = saver.save(sess, save_model_path)"
   ]
  },
  {
   "cell_type": "markdown",
   "metadata": {},
   "source": [
    "# Checkpoint\n",
    "The model has been saved to disk.\n",
    "## Test Model\n",
    "Test your model against the test dataset.  This will be your final accuracy. You should have an accuracy greater than 50%. If you don't, keep tweaking the model architecture and parameters."
   ]
  },
  {
   "cell_type": "code",
   "execution_count": 18,
   "metadata": {},
   "outputs": [
    {
     "name": "stdout",
     "output_type": "stream",
     "text": [
      "INFO:tensorflow:Restoring parameters from ./image_classification\n",
      "Testing Accuracy: 0.6035403481012658\n",
      "\n"
     ]
    },
    {
     "data": {
      "image/png": "[encoded data removed]",
      "text/plain": [
       "<matplotlib.figure.Figure at 0x104f397f0>"
      ]
     },
     "metadata": {
      "image/png": {
       "height": 319,
       "width": 355
      }
     },
     "output_type": "display_data"
    }
   ],
   "source": [
    "\"\"\"\n",
    "DON'T MODIFY ANYTHING IN THIS CELL\n",
    "\"\"\"\n",
    "%matplotlib inline\n",
    "%config InlineBackend.figure_format = 'retina'\n",
    "\n",
    "import tensorflow as tf\n",
    "import pickle\n",
    "import helper\n",
    "import random\n",
    "\n",
    "# Set batch size if not already set\n",
    "try:\n",
    "    if batch_size:\n",
    "        pass\n",
    "except NameError:\n",
    "    batch_size = 64\n",
    "\n",
    "save_model_path = './image_classification'\n",
    "n_samples = 4\n",
    "top_n_predictions = 3\n",
    "\n",
    "def test_model():\n",
    "    \"\"\"\n",
    "    Test the saved model against the test dataset\n",
    "    \"\"\"\n",
    "\n",
    "    test_features, test_labels = pickle.load(open('preprocess_test.p', mode='rb'))\n",
    "    loaded_graph = tf.Graph()\n",
    "\n",
    "    with tf.Session(graph=loaded_graph) as sess:\n",
    "        # Load model\n",
    "        loader = tf.train.import_meta_graph(save_model_path + '.meta')\n",
    "        loader.restore(sess, save_model_path)\n",
    "\n",
    "        # Get Tensors from loaded model\n",
    "        loaded_x = loaded_graph.get_tensor_by_name('x:0')\n",
    "        loaded_y = loaded_graph.get_tensor_by_name('y:0')\n",
    "        loaded_keep_prob = loaded_graph.get_tensor_by_name('keep_prob:0')\n",
    "        loaded_logits = loaded_graph.get_tensor_by_name('logits:0')\n",
    "        loaded_acc = loaded_graph.get_tensor_by_name('accuracy:0')\n",
    "        \n",
    "        # Get accuracy in batches for memory limitations\n",
    "        test_batch_acc_total = 0\n",
    "        test_batch_count = 0\n",
    "        \n",
    "        for test_feature_batch, test_label_batch in helper.batch_features_labels(test_features, test_labels, batch_size):\n",
    "            test_batch_acc_total += sess.run(\n",
    "                loaded_acc,\n",
    "                feed_dict={loaded_x: test_feature_batch, loaded_y: test_label_batch, loaded_keep_prob: 1.0})\n",
    "            test_batch_count += 1\n",
    "\n",
    "        print('Testing Accuracy: {}\\n'.format(test_batch_acc_total/test_batch_count))\n",
    "\n",
    "        # Print Random Samples\n",
    "        random_test_features, random_test_labels = tuple(zip(*random.sample(list(zip(test_features, test_labels)), n_samples)))\n",
    "        random_test_predictions = sess.run(\n",
    "            tf.nn.top_k(tf.nn.softmax(loaded_logits), top_n_predictions),\n",
    "            feed_dict={loaded_x: random_test_features, loaded_y: random_test_labels, loaded_keep_prob: 1.0})\n",
    "        helper.display_image_predictions(random_test_features, random_test_labels, random_test_predictions)\n",
    "\n",
    "\n",
    "test_model()"
   ]
  },
  {
   "cell_type": "markdown",
   "metadata": {},
   "source": [
    "## Why 50-80% Accuracy?\n",
    "You might be wondering why you can't get an accuracy any higher. First things first, 50% isn't bad for a simple CNN.  Pure guessing would get you 10% accuracy. However, you might notice people are getting scores [well above 80%](http://rodrigob.github.io/are_we_there_yet/build/classification_datasets_results.html#43494641522d3130).  That's because we haven't taught you all there is to know about neural networks. We still need to cover a few more techniques.\n",
    "## Submitting This Project\n",
    "When submitting this project, make sure to run all the cells before saving the notebook.  Save the notebook file as \"dlnd_image_classification.ipynb\" and save it as a HTML file under \"File\" -> \"Download as\".  Include the \"helper.py\" and \"problem_unittests.py\" files in your submission."
   ]
  }
 ],
 "metadata": {
  "kernelspec": {
   "display_name": "Python 3",
   "language": "python",
   "name": "python3"
  },
  "language_info": {
   "codemirror_mode": {
    "name": "ipython",
    "version": 3
   },
   "file_extension": ".py",
   "mimetype": "text/x-python",
   "name": "python",
   "nbconvert_exporter": "python",
   "pygments_lexer": "ipython3",
   "version": "3.5.3"
  }
 },
 "nbformat": 4,
 "nbformat_minor": 1
}
