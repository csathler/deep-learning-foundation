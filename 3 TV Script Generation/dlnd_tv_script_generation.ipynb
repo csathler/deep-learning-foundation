{
 "cells": [
  {
   "cell_type": "markdown",
   "metadata": {},
   "source": [
    "# TV Script Generation\n",
    "In this project, you'll generate your own [Simpsons](https://en.wikipedia.org/wiki/The_Simpsons) TV scripts using RNNs.  You'll be using part of the [Simpsons dataset](https://www.kaggle.com/wcukierski/the-simpsons-by-the-data) of scripts from 27 seasons.  The Neural Network you'll build will generate a new TV script for a scene at [Moe's Tavern](https://simpsonswiki.com/wiki/Moe's_Tavern).\n",
    "## Get the Data\n",
    "The data is already provided for you.  You'll be using a subset of the original dataset.  It consists of only the scenes in Moe's Tavern.  This doesn't include other versions of the tavern, like \"Moe's Cavern\", \"Flaming Moe's\", \"Uncle Moe's Family Feed-Bag\", etc.."
   ]
  },
  {
   "cell_type": "code",
   "execution_count": 1,
   "metadata": {
    "collapsed": true
   },
   "outputs": [],
   "source": [
    "\"\"\"\n",
    "DON'T MODIFY ANYTHING IN THIS CELL\n",
    "\"\"\"\n",
    "import helper\n",
    "\n",
    "data_dir = './data/simpsons/moes_tavern_lines.txt'\n",
    "text = helper.load_data(data_dir)\n",
    "# Ignore notice, since we don't use it for analysing the data\n",
    "text = text[81:]"
   ]
  },
  {
   "cell_type": "markdown",
   "metadata": {},
   "source": [
    "## Explore the Data\n",
    "Play around with `view_sentence_range` to view different parts of the data."
   ]
  },
  {
   "cell_type": "code",
   "execution_count": 2,
   "metadata": {},
   "outputs": [
    {
     "name": "stdout",
     "output_type": "stream",
     "text": [
      "Dataset Stats\n",
      "Roughly the number of unique words: 11492\n",
      "Number of scenes: 262\n",
      "Average number of sentences in each scene: 15.248091603053435\n",
      "Number of lines: 4257\n",
      "Average number of words in each line: 11.50434578341555\n",
      "\n",
      "The sentences 5 to 20:\n",
      "Homer_Simpson: I got my problems, Moe. Give me another one.\n",
      "Moe_Szyslak: Homer, hey, you should not drink to forget your problems.\n",
      "Barney_Gumble: Yeah, you should only drink to enhance your social skills.\n",
      "\n",
      "\n",
      "Moe_Szyslak: Ah, isn't that nice. Now, there is a politician who cares.\n",
      "Barney_Gumble: If I ever vote, it'll be for him. (BELCH)\n",
      "\n",
      "\n",
      "Barney_Gumble: Hey Homer, how's your neighbor's store doing?\n",
      "Homer_Simpson: Lousy. He just sits there all day. He'd have a great job if he didn't own the place. (CHUCKLES)\n",
      "Moe_Szyslak: (STRUGGLING WITH CORKSCREW) Crummy right-handed corkscrews! What does he sell?\n",
      "Homer_Simpson: Uh, well actually, Moe...\n",
      "HOMER_(CONT'D: I dunno.\n",
      "\n"
     ]
    }
   ],
   "source": [
    "view_sentence_range = (5, 20)\n",
    "\n",
    "\"\"\"\n",
    "DON'T MODIFY ANYTHING IN THIS CELL\n",
    "\"\"\"\n",
    "import numpy as np\n",
    "\n",
    "print('Dataset Stats')\n",
    "print('Roughly the number of unique words: {}'.format(len({word: None for word in text.split()})))\n",
    "scenes = text.split('\\n\\n')\n",
    "print('Number of scenes: {}'.format(len(scenes)))\n",
    "sentence_count_scene = [scene.count('\\n') for scene in scenes]\n",
    "print('Average number of sentences in each scene: {}'.format(np.average(sentence_count_scene)))\n",
    "\n",
    "sentences = [sentence for scene in scenes for sentence in scene.split('\\n')]\n",
    "print('Number of lines: {}'.format(len(sentences)))\n",
    "word_count_sentence = [len(sentence.split()) for sentence in sentences]\n",
    "print('Average number of words in each line: {}'.format(np.average(word_count_sentence)))\n",
    "\n",
    "print()\n",
    "print('The sentences {} to {}:'.format(*view_sentence_range))\n",
    "print('\\n'.join(text.split('\\n')[view_sentence_range[0]:view_sentence_range[1]]))"
   ]
  },
  {
   "cell_type": "markdown",
   "metadata": {},
   "source": [
    "## Implement Preprocessing Functions\n",
    "The first thing to do to any dataset is preprocessing.  Implement the following preprocessing functions below:\n",
    "- Lookup Table\n",
    "- Tokenize Punctuation\n",
    "\n",
    "### Lookup Table\n",
    "To create a word embedding, you first need to transform the words to ids.  In this function, create two dictionaries:\n",
    "- Dictionary to go from the words to an id, we'll call `vocab_to_int`\n",
    "- Dictionary to go from the id to word, we'll call `int_to_vocab`\n",
    "\n",
    "Return these dictionaries in the following tuple `(vocab_to_int, int_to_vocab)`"
   ]
  },
  {
   "cell_type": "code",
   "execution_count": 3,
   "metadata": {},
   "outputs": [
    {
     "name": "stdout",
     "output_type": "stream",
     "text": [
      "Tests Passed\n"
     ]
    }
   ],
   "source": [
    "import numpy as np\n",
    "import problem_unittests as tests\n",
    "from collections import Counter\n",
    "\n",
    "def create_lookup_tables(text):\n",
    "    \"\"\"\n",
    "    Create lookup tables for vocabulary\n",
    "    :param text: The text of tv scripts split into words\n",
    "    :return: A tuple of dicts (vocab_to_int, int_to_vocab)\n",
    "    \"\"\"\n",
    "    # TODO: Implement Function\n",
    "    #return None, None\n",
    "    #print(type(text))\n",
    "    word_counts = Counter(text)\n",
    "    sorted_vocab = sorted(word_counts, key=word_counts.get, reverse=True)\n",
    "    int_to_vocab = {ii: word for ii, word in enumerate(sorted_vocab)}\n",
    "    vocab_to_int = {word: ii for ii, word in int_to_vocab.items()}\n",
    "\n",
    "    return vocab_to_int, int_to_vocab\n",
    "\n",
    "\"\"\"\n",
    "DON'T MODIFY ANYTHING IN THIS CELL THAT IS BELOW THIS LINE\n",
    "\"\"\"\n",
    "tests.test_create_lookup_tables(create_lookup_tables)"
   ]
  },
  {
   "cell_type": "markdown",
   "metadata": {},
   "source": [
    "### Tokenize Punctuation\n",
    "We'll be splitting the script into a word array using spaces as delimiters.  However, punctuations like periods and exclamation marks make it hard for the neural network to distinguish between the word \"bye\" and \"bye!\".\n",
    "\n",
    "Implement the function `token_lookup` to return a dict that will be used to tokenize symbols like \"!\" into \"||Exclamation_Mark||\".  Create a dictionary for the following symbols where the symbol is the key and value is the token:\n",
    "- Period ( . )\n",
    "- Comma ( , )\n",
    "- Quotation Mark ( \" )\n",
    "- Semicolon ( ; )\n",
    "- Exclamation mark ( ! )\n",
    "- Question mark ( ? )\n",
    "- Left Parentheses ( ( )\n",
    "- Right Parentheses ( ) )\n",
    "- Dash ( -- )\n",
    "- Return ( \\n )\n",
    "\n",
    "This dictionary will be used to token the symbols and add the delimiter (space) around it.  This separates the symbols as it's own word, making it easier for the neural network to predict on the next word. Make sure you don't use a token that could be confused as a word. Instead of using the token \"dash\", try using something like \"||dash||\"."
   ]
  },
  {
   "cell_type": "code",
   "execution_count": 4,
   "metadata": {},
   "outputs": [
    {
     "name": "stdout",
     "output_type": "stream",
     "text": [
      "Tests Passed\n"
     ]
    }
   ],
   "source": [
    "def token_lookup():\n",
    "    \"\"\"\n",
    "    Generate a dict to turn punctuation into a token.\n",
    "    :return: Tokenize dictionary where the key is the punctuation and the value is the token\n",
    "    \"\"\"\n",
    "    # TODO: Implement Function\n",
    "    #return None\n",
    "    token = dict()\n",
    "    token['.'] = '||Period||'\n",
    "    token[','] = '||Comma||'\n",
    "    token['\"'] = '||Quotation_Mark||'\n",
    "    token[';'] = '||Semicolon||'\n",
    "    token['!'] = '||Exclamation_mark||'\n",
    "    token['?'] = '||Question_mark||'\n",
    "    token['('] = '||Left_Parentheses||'\n",
    "    token[')'] = '||Right_Parentheses||'\n",
    "    token['--'] = '||Dash||'\n",
    "    token['\\n'] = '||Return||'\n",
    "    \n",
    "    return token\n",
    "    \n",
    "\"\"\"\n",
    "DON'T MODIFY ANYTHING IN THIS CELL THAT IS BELOW THIS LINE\n",
    "\"\"\"\n",
    "tests.test_tokenize(token_lookup)"
   ]
  },
  {
   "cell_type": "markdown",
   "metadata": {},
   "source": [
    "## Preprocess all the data and save it\n",
    "Running the code cell below will preprocess all the data and save it to file."
   ]
  },
  {
   "cell_type": "code",
   "execution_count": 5,
   "metadata": {
    "collapsed": true
   },
   "outputs": [],
   "source": [
    "\"\"\"\n",
    "DON'T MODIFY ANYTHING IN THIS CELL\n",
    "\"\"\"\n",
    "# Preprocess Training, Validation, and Testing Data\n",
    "helper.preprocess_and_save_data(data_dir, token_lookup, create_lookup_tables)"
   ]
  },
  {
   "cell_type": "markdown",
   "metadata": {},
   "source": [
    "# Check Point\n",
    "This is your first checkpoint. If you ever decide to come back to this notebook or have to restart the notebook, you can start from here. The preprocessed data has been saved to disk."
   ]
  },
  {
   "cell_type": "code",
   "execution_count": 6,
   "metadata": {
    "collapsed": true
   },
   "outputs": [],
   "source": [
    "\"\"\"\n",
    "DON'T MODIFY ANYTHING IN THIS CELL\n",
    "\"\"\"\n",
    "import helper\n",
    "import numpy as np\n",
    "import problem_unittests as tests\n",
    "\n",
    "int_text, vocab_to_int, int_to_vocab, token_dict = helper.load_preprocess()"
   ]
  },
  {
   "cell_type": "markdown",
   "metadata": {},
   "source": [
    "## Build the Neural Network\n",
    "You'll build the components necessary to build a RNN by implementing the following functions below:\n",
    "- get_inputs\n",
    "- get_init_cell\n",
    "- get_embed\n",
    "- build_rnn\n",
    "- build_nn\n",
    "- get_batches\n",
    "\n",
    "### Check the Version of TensorFlow and Access to GPU"
   ]
  },
  {
   "cell_type": "code",
   "execution_count": 7,
   "metadata": {},
   "outputs": [
    {
     "name": "stdout",
     "output_type": "stream",
     "text": [
      "TensorFlow Version: 1.0.1\n",
      "Default GPU Device: /gpu:0\n"
     ]
    }
   ],
   "source": [
    "\"\"\"\n",
    "DON'T MODIFY ANYTHING IN THIS CELL\n",
    "\"\"\"\n",
    "from distutils.version import LooseVersion\n",
    "import warnings\n",
    "import tensorflow as tf\n",
    "\n",
    "# Check TensorFlow Version\n",
    "assert LooseVersion(tf.__version__) >= LooseVersion('1.0'), 'Please use TensorFlow version 1.0 or newer'\n",
    "print('TensorFlow Version: {}'.format(tf.__version__))\n",
    "\n",
    "# Check for a GPU\n",
    "if not tf.test.gpu_device_name():\n",
    "    warnings.warn('No GPU found. Please use a GPU to train your neural network.')\n",
    "else:\n",
    "    print('Default GPU Device: {}'.format(tf.test.gpu_device_name()))"
   ]
  },
  {
   "cell_type": "markdown",
   "metadata": {},
   "source": [
    "### Input\n",
    "Implement the `get_inputs()` function to create TF Placeholders for the Neural Network.  It should create the following placeholders:\n",
    "- Input text placeholder named \"input\" using the [TF Placeholder](https://www.tensorflow.org/api_docs/python/tf/placeholder) `name` parameter.\n",
    "- Targets placeholder\n",
    "- Learning Rate placeholder\n",
    "\n",
    "Return the placeholders in the following tuple `(Input, Targets, LearningRate)`"
   ]
  },
  {
   "cell_type": "code",
   "execution_count": 8,
   "metadata": {},
   "outputs": [
    {
     "name": "stdout",
     "output_type": "stream",
     "text": [
      "Tests Passed\n"
     ]
    }
   ],
   "source": [
    "def get_inputs():\n",
    "    \"\"\"\n",
    "    Create TF Placeholders for input, targets, and learning rate.\n",
    "    :return: Tuple (input, targets, learning rate)\n",
    "    \"\"\"\n",
    "    # TODO: Implement Function\n",
    "    #return None, None, None\n",
    "    input = tf.placeholder(tf.int32, [None, None], name='input')\n",
    "    targets = tf.placeholder(tf.int32, [None, None], name='targets')\n",
    "    learning_rate = tf.placeholder(tf.float32, name='learning_rate')\n",
    "    return input, targets, learning_rate\n",
    "\n",
    "\n",
    "\"\"\"\n",
    "DON'T MODIFY ANYTHING IN THIS CELL THAT IS BELOW THIS LINE\n",
    "\"\"\"\n",
    "tests.test_get_inputs(get_inputs)"
   ]
  },
  {
   "cell_type": "markdown",
   "metadata": {},
   "source": [
    "### Build RNN Cell and Initialize\n",
    "Stack one or more [`BasicLSTMCells`](https://www.tensorflow.org/api_docs/python/tf/contrib/rnn/BasicLSTMCell) in a [`MultiRNNCell`](https://www.tensorflow.org/api_docs/python/tf/contrib/rnn/MultiRNNCell).\n",
    "- The Rnn size should be set using `rnn_size`\n",
    "- Initalize Cell State using the MultiRNNCell's [`zero_state()`](https://www.tensorflow.org/api_docs/python/tf/contrib/rnn/MultiRNNCell#zero_state) function\n",
    "    - Apply the name \"initial_state\" to the initial state using [`tf.identity()`](https://www.tensorflow.org/api_docs/python/tf/identity)\n",
    "\n",
    "Return the cell and initial state in the following tuple `(Cell, InitialState)`"
   ]
  },
  {
   "cell_type": "code",
   "execution_count": 9,
   "metadata": {},
   "outputs": [
    {
     "name": "stdout",
     "output_type": "stream",
     "text": [
      "Tests Passed\n"
     ]
    }
   ],
   "source": [
    "def get_init_cell(batch_size, rnn_size):\n",
    "    \"\"\"\n",
    "    Create an RNN Cell and initialize it.\n",
    "    :param batch_size: Size of batches\n",
    "    :param rnn_size: Size of RNNs\n",
    "    :return: Tuple (cell, initialize state)\n",
    "    \"\"\"\n",
    "    # TODO: Implement Function\n",
    "    #return None, None\n",
    "    # basic LSTM cell\n",
    "    lstm = tf.contrib.rnn.BasicLSTMCell(rnn_size)\n",
    "    #dropout = tf.contrib.rnn.DropoutWrapper(lstm, output_keep_prob=0.8)\n",
    "    dropout = lstm\n",
    "    cell = tf.contrib.rnn.MultiRNNCell([dropout])\n",
    "    initial_state = cell.zero_state(batch_size, tf.float32)\n",
    "    initial_state = tf.identity(initial_state, name='initial_state')\n",
    "    return cell, initial_state\n",
    "\n",
    "\"\"\"\n",
    "DON'T MODIFY ANYTHING IN THIS CELL THAT IS BELOW THIS LINE\n",
    "\"\"\"\n",
    "tests.test_get_init_cell(get_init_cell)"
   ]
  },
  {
   "cell_type": "markdown",
   "metadata": {},
   "source": [
    "### Word Embedding\n",
    "Apply embedding to `input_data` using TensorFlow.  Return the embedded sequence."
   ]
  },
  {
   "cell_type": "code",
   "execution_count": 10,
   "metadata": {},
   "outputs": [
    {
     "name": "stdout",
     "output_type": "stream",
     "text": [
      "Tests Passed\n"
     ]
    }
   ],
   "source": [
    "def get_embed(input_data, vocab_size, embed_dim):\n",
    "    \"\"\"\n",
    "    Create embedding for <input_data>.\n",
    "    :param input_data: TF placeholder for text input.\n",
    "    :param vocab_size: Number of words in vocabulary.\n",
    "    :param embed_dim: Number of embedding dimensions\n",
    "    :return: Embedded input.\n",
    "    \"\"\"\n",
    "    # TODO: Implement Function\n",
    "    #return None\n",
    "    embedding = tf.Variable(tf.random_uniform((vocab_size, embed_dim), -1, 1))\n",
    "    embed = tf.nn.embedding_lookup(embedding, input_data)\n",
    "    return embed\n",
    "\n",
    "\n",
    "\"\"\"\n",
    "DON'T MODIFY ANYTHING IN THIS CELL THAT IS BELOW THIS LINE\n",
    "\"\"\"\n",
    "tests.test_get_embed(get_embed)"
   ]
  },
  {
   "cell_type": "markdown",
   "metadata": {},
   "source": [
    "### Build RNN\n",
    "You created a RNN Cell in the `get_init_cell()` function.  Time to use the cell to create a RNN.\n",
    "- Build the RNN using the [`tf.nn.dynamic_rnn()`](https://www.tensorflow.org/api_docs/python/tf/nn/dynamic_rnn)\n",
    " - Apply the name \"final_state\" to the final state using [`tf.identity()`](https://www.tensorflow.org/api_docs/python/tf/identity)\n",
    "\n",
    "Return the outputs and final_state state in the following tuple `(Outputs, FinalState)` "
   ]
  },
  {
   "cell_type": "code",
   "execution_count": 11,
   "metadata": {},
   "outputs": [
    {
     "name": "stdout",
     "output_type": "stream",
     "text": [
      "Tests Passed\n"
     ]
    }
   ],
   "source": [
    "def build_rnn(cell, inputs):\n",
    "    \"\"\"\n",
    "    Create a RNN using a RNN Cell\n",
    "    :param cell: RNN Cell\n",
    "    :param inputs: Input text data\n",
    "    :return: Tuple (Outputs, Final State)\n",
    "    \"\"\"\n",
    "    # TODO: Implement Function\n",
    "    #return None, None\n",
    "    outputs, final_state = tf.nn.dynamic_rnn(cell, inputs, dtype=tf.float32)\n",
    "    final_state = tf.identity(final_state, name='final_state')\n",
    "    return outputs, final_state\n",
    "\n",
    "\n",
    "\"\"\"\n",
    "DON'T MODIFY ANYTHING IN THIS CELL THAT IS BELOW THIS LINE\n",
    "\"\"\"\n",
    "tests.test_build_rnn(build_rnn)"
   ]
  },
  {
   "cell_type": "markdown",
   "metadata": {},
   "source": [
    "### Build the Neural Network\n",
    "Apply the functions you implemented above to:\n",
    "- Apply embedding to `input_data` using your `get_embed(input_data, vocab_size, embed_dim)` function.\n",
    "- Build RNN using `cell` and your `build_rnn(cell, inputs)` function.\n",
    "- Apply a fully connected layer with a linear activation and `vocab_size` as the number of outputs.\n",
    "\n",
    "Return the logits and final state in the following tuple (Logits, FinalState) "
   ]
  },
  {
   "cell_type": "code",
   "execution_count": 12,
   "metadata": {},
   "outputs": [
    {
     "name": "stdout",
     "output_type": "stream",
     "text": [
      "Tests Passed\n"
     ]
    }
   ],
   "source": [
    "def build_nn(cell, rnn_size, input_data, vocab_size, embed_dim):\n",
    "    \"\"\"\n",
    "    Build part of the neural network\n",
    "    :param cell: RNN cell.\n",
    "    :param rnn_size: Size of rnns\n",
    "    :param input_data: Input data.\n",
    "    :param vocab_size: Vocabulary size\n",
    "    :param embed_dim: Number of embedding dimensions\n",
    "    :return: Tuple (Logits, FinalState)\n",
    "    \"\"\"\n",
    "    # TODO: Implement Function\n",
    "    #return None, None\n",
    "    #print(input_data)\n",
    "    input_data = get_embed(input_data, vocab_size, embed_dim)\n",
    "    #print(input_data)\n",
    "    outputs, final_state = build_rnn(cell, input_data)\n",
    "    logits = tf.contrib.layers.fully_connected(outputs, vocab_size, activation_fn=None,   \\\n",
    "             weights_initializer = tf.truncated_normal_initializer(mean=0.0, stddev=0.01), \\\n",
    "             biases_initializer = tf.zeros_initializer())\n",
    "    return logits, final_state\n",
    "\n",
    "\"\"\"\n",
    "DON'T MODIFY ANYTHING IN THIS CELL THAT IS BELOW THIS LINE\n",
    "\"\"\"\n",
    "tests.test_build_nn(build_nn)"
   ]
  },
  {
   "cell_type": "markdown",
   "metadata": {},
   "source": [
    "### Batches\n",
    "Implement `get_batches` to create batches of input and targets using `int_text`.  The batches should be a Numpy array with the shape `(number of batches, 2, batch size, sequence length)`. Each batch contains two elements:\n",
    "- The first element is a single batch of **input** with the shape `[batch size, sequence length]`\n",
    "- The second element is a single batch of **targets** with the shape `[batch size, sequence length]`\n",
    "\n",
    "If you can't fill the last batch with enough data, drop the last batch.\n",
    "\n",
    "For exmple, `get_batches([1, 2, 3, 4, 5, 6, 7, 8, 9, 10, 11, 12, 13, 14, 15, 16, 17, 18, 19, 20], 3, 2)` would return a Numpy array of the following:\n",
    "```\n",
    "[\n",
    "  # First Batch\n",
    "  [\n",
    "    # Batch of Input\n",
    "    [[ 1  2], [ 7  8], [13 14]]\n",
    "    # Batch of targets\n",
    "    [[ 2  3], [ 8  9], [14 15]]\n",
    "  ]\n",
    "\n",
    "  # Second Batch\n",
    "  [\n",
    "    # Batch of Input\n",
    "    [[ 3  4], [ 9 10], [15 16]]\n",
    "    # Batch of targets\n",
    "    [[ 4  5], [10 11], [16 17]]\n",
    "  ]\n",
    "\n",
    "  # Third Batch\n",
    "  [\n",
    "    # Batch of Input\n",
    "    [[ 5  6], [11 12], [17 18]]\n",
    "    # Batch of targets\n",
    "    [[ 6  7], [12 13], [18  1]]\n",
    "  ]\n",
    "]\n",
    "```\n",
    "\n",
    "Notice that the last target value in the last batch is the first input value of the first batch. In this case, `1`. This is a common technique used when creating sequence batches, although it is rather unintuitive."
   ]
  },
  {
   "cell_type": "code",
   "execution_count": 13,
   "metadata": {},
   "outputs": [
    {
     "name": "stdout",
     "output_type": "stream",
     "text": [
      "[[   0    1    2 ...,   32   33   34]\n",
      " [  35   36   37 ...,   67   68   69]\n",
      " [  70   71   72 ...,  102  103  104]\n",
      " ..., \n",
      " [4375 4376 4377 ..., 4407 4408 4409]\n",
      " [4410 4411 4412 ..., 4442 4443 4444]\n",
      " [4445 4446 4447 ..., 4477 4478 4479]]\n",
      "Tests Passed\n"
     ]
    }
   ],
   "source": [
    "def get_batches(int_text, batch_size, seq_length):\n",
    "    \"\"\"\n",
    "    Return batches of input and target\n",
    "    :param int_text: Text with the words replaced by their ids\n",
    "    :param batch_size: The size of batch\n",
    "    :param seq_length: The length of sequence\n",
    "    :return: Batches as a Numpy array\n",
    "    \"\"\"\n",
    "    # TODO: Implement Function\n",
    "    #return None\n",
    "    \n",
    "    exploring = False\n",
    "    int_arr = np.array(int_text)\n",
    "    \n",
    "    if exploring:\n",
    "        int_arr = int_arr[0:20]\n",
    "        batch_size = 3\n",
    "        seq_length = 2\n",
    "        int_arr += 1\n",
    " \n",
    "    # get the number of characters per batch and number of batches we can make\n",
    "    words_per_batch = batch_size * seq_length\n",
    "    n_batches = len(int_arr)//(words_per_batch)\n",
    "    \n",
    "    # keep only enough characters to make full batches\n",
    "    int_arr = int_arr[:n_batches * words_per_batch]\n",
    "    \n",
    "    # reshape into seq_length rows\n",
    "    int_arr = int_arr.reshape((batch_size, -1))\n",
    "    print(int_arr)\n",
    "    \n",
    "    first_time = True\n",
    "    for n in range(0, int_arr.shape[1], seq_length):\n",
    "        # the features\n",
    "        x = int_arr[:, n:n+seq_length]\n",
    "        # the targets, shifted by one\n",
    "        y = np.zeros_like(x)\n",
    "        if n+seq_length == int_arr.shape[1]:\n",
    "            # need to wrap around the array\n",
    "            y = int_arr[:,0]\n",
    "            z = y.copy()\n",
    "            for i in range(0, len(y)-1):\n",
    "                z[i] = y[i+1]\n",
    "            z[len(y)-1] = y[0]\n",
    "            y = np.concatenate((int_arr[:, n+1:],z.reshape(batch_size,1)), axis=1)\n",
    "        else:\n",
    "            y = int_arr[:, n+1:n+seq_length+1]\n",
    "        if first_time:\n",
    "            out_arr = x.copy()\n",
    "            out_arr = np.append(out_arr,y)\n",
    "            first_time = False\n",
    "        else:\n",
    "            out_arr = np.append(out_arr,x)\n",
    "            out_arr = np.append(out_arr,y)\n",
    "        \n",
    "    # create place holder for output\n",
    "    out_arr = out_arr.reshape(n_batches, 2, batch_size, seq_length)\n",
    "\n",
    "    if exploring:\n",
    "        print(\"len of int_text {}\".format(len(int_text)))\n",
    "        print(\"batch_size {}\".format(batch_size))\n",
    "        print(\"seq_length {}\".format(seq_length))\n",
    "        print(\"words per batch {}\".format(words_per_batch))\n",
    "        print(\"no of batches {}\".format(n_batches))\n",
    "        print(\"len of input kept {}\".format(len(int_arr)))\n",
    "        print(\"shape of out_arr {}\".format(out_arr.shape))\n",
    "        print(\"out_arr {}\".format(out_arr))\n",
    "                    \n",
    "    return(out_arr)\n",
    "\n",
    "\n",
    "\"\"\"\n",
    "DON'T MODIFY ANYTHING IN THIS CELL THAT IS BELOW THIS LINE\n",
    "\"\"\"\n",
    "tests.test_get_batches(get_batches)"
   ]
  },
  {
   "cell_type": "markdown",
   "metadata": {},
   "source": [
    "## Neural Network Training\n",
    "### Hyperparameters\n",
    "Tune the following parameters:\n",
    "\n",
    "- Set `num_epochs` to the number of epochs.\n",
    "- Set `batch_size` to the batch size.\n",
    "- Set `rnn_size` to the size of the RNNs.\n",
    "- Set `embed_dim` to the size of the embedding.\n",
    "- Set `seq_length` to the length of sequence.\n",
    "- Set `learning_rate` to the learning rate.\n",
    "- Set `show_every_n_batches` to the number of batches the neural network should print progress."
   ]
  },
  {
   "cell_type": "code",
   "execution_count": 14,
   "metadata": {
    "collapsed": true
   },
   "outputs": [],
   "source": [
    "# Number of Epochs\n",
    "num_epochs = 128\n",
    "# Batch Size\n",
    "batch_size = 64\n",
    "# RNN Size\n",
    "rnn_size = 256\n",
    "# Embedding Dimension Size\n",
    "embed_dim = 128\n",
    "# Sequence Length\n",
    "seq_length = 32\n",
    "# Learning Rate\n",
    "learning_rate = 0.01\n",
    "# Show stats for every n number of batches\n",
    "show_every_n_batches = 32\n",
    "\n",
    "\"\"\"\n",
    "DON'T MODIFY ANYTHING IN THIS CELL THAT IS BELOW THIS LINE\n",
    "\"\"\"\n",
    "save_dir = './save'"
   ]
  },
  {
   "cell_type": "markdown",
   "metadata": {},
   "source": [
    "### Build the Graph\n",
    "Build the graph using the neural network you implemented."
   ]
  },
  {
   "cell_type": "code",
   "execution_count": 15,
   "metadata": {
    "collapsed": true
   },
   "outputs": [],
   "source": [
    "\"\"\"\n",
    "DON'T MODIFY ANYTHING IN THIS CELL\n",
    "\"\"\"\n",
    "from tensorflow.contrib import seq2seq\n",
    "\n",
    "train_graph = tf.Graph()\n",
    "with train_graph.as_default():\n",
    "    vocab_size = len(int_to_vocab)\n",
    "    input_text, targets, lr = get_inputs()\n",
    "    input_data_shape = tf.shape(input_text)\n",
    "    cell, initial_state = get_init_cell(input_data_shape[0], rnn_size)\n",
    "    logits, final_state = build_nn(cell, rnn_size, input_text, vocab_size, embed_dim)\n",
    "\n",
    "    # Probabilities for generating words\n",
    "    probs = tf.nn.softmax(logits, name='probs')\n",
    "\n",
    "    # Loss function\n",
    "    cost = seq2seq.sequence_loss(\n",
    "        logits,\n",
    "        targets,\n",
    "        tf.ones([input_data_shape[0], input_data_shape[1]]))\n",
    "\n",
    "    # Optimizer\n",
    "    optimizer = tf.train.AdamOptimizer(lr)\n",
    "\n",
    "    # Gradient Clipping\n",
    "    gradients = optimizer.compute_gradients(cost)\n",
    "    capped_gradients = [(tf.clip_by_value(grad, -1., 1.), var) for grad, var in gradients if grad is not None]\n",
    "    train_op = optimizer.apply_gradients(capped_gradients)"
   ]
  },
  {
   "cell_type": "markdown",
   "metadata": {},
   "source": [
    "## Train\n",
    "Train the neural network on the preprocessed data.  If you have a hard time getting a good loss, check the [forms](https://discussions.udacity.com/) to see if anyone is having the same problem."
   ]
  },
  {
   "cell_type": "code",
   "execution_count": 16,
   "metadata": {},
   "outputs": [
    {
     "name": "stdout",
     "output_type": "stream",
     "text": [
      "[[   9    3  122 ..., 5683   15 3759]\n",
      " [4209   39  349 ...,  636  194   11]\n",
      " [ 128   97  152 ...,    4   98   54]\n",
      " ..., \n",
      " [   9    3 1090 ...,  739 2373   23]\n",
      " [2188    0    1 ...,  242  361   10]\n",
      " [   1 1047    3 ...,   41  202    2]]\n",
      "Epoch   0 Batch    0/33   train_loss = 8.823\n",
      "Epoch   0 Batch   32/33   train_loss = 5.590\n",
      "Epoch   1 Batch   31/33   train_loss = 4.877\n",
      "Epoch   2 Batch   30/33   train_loss = 4.474\n",
      "Epoch   3 Batch   29/33   train_loss = 4.215\n",
      "Epoch   4 Batch   28/33   train_loss = 4.023\n",
      "Epoch   5 Batch   27/33   train_loss = 3.693\n",
      "Epoch   6 Batch   26/33   train_loss = 3.451\n",
      "Epoch   7 Batch   25/33   train_loss = 3.202\n",
      "Epoch   8 Batch   24/33   train_loss = 2.947\n",
      "Epoch   9 Batch   23/33   train_loss = 2.797\n",
      "Epoch  10 Batch   22/33   train_loss = 2.525\n",
      "Epoch  11 Batch   21/33   train_loss = 2.452\n",
      "Epoch  12 Batch   20/33   train_loss = 2.284\n",
      "Epoch  13 Batch   19/33   train_loss = 2.118\n",
      "Epoch  14 Batch   18/33   train_loss = 1.991\n",
      "Epoch  15 Batch   17/33   train_loss = 1.840\n",
      "Epoch  16 Batch   16/33   train_loss = 1.768\n",
      "Epoch  17 Batch   15/33   train_loss = 1.641\n",
      "Epoch  18 Batch   14/33   train_loss = 1.514\n",
      "Epoch  19 Batch   13/33   train_loss = 1.459\n",
      "Epoch  20 Batch   12/33   train_loss = 1.430\n",
      "Epoch  21 Batch   11/33   train_loss = 1.195\n",
      "Epoch  22 Batch   10/33   train_loss = 1.201\n",
      "Epoch  23 Batch    9/33   train_loss = 1.116\n",
      "Epoch  24 Batch    8/33   train_loss = 1.119\n",
      "Epoch  25 Batch    7/33   train_loss = 0.986\n",
      "Epoch  26 Batch    6/33   train_loss = 1.032\n",
      "Epoch  27 Batch    5/33   train_loss = 0.870\n",
      "Epoch  28 Batch    4/33   train_loss = 0.887\n",
      "Epoch  29 Batch    3/33   train_loss = 0.889\n",
      "Epoch  30 Batch    2/33   train_loss = 0.821\n",
      "Epoch  31 Batch    1/33   train_loss = 0.791\n",
      "Epoch  32 Batch    0/33   train_loss = 0.757\n",
      "Epoch  32 Batch   32/33   train_loss = 0.679\n",
      "Epoch  33 Batch   31/33   train_loss = 0.690\n",
      "Epoch  34 Batch   30/33   train_loss = 0.632\n",
      "Epoch  35 Batch   29/33   train_loss = 0.629\n",
      "Epoch  36 Batch   28/33   train_loss = 0.625\n",
      "Epoch  37 Batch   27/33   train_loss = 0.590\n",
      "Epoch  38 Batch   26/33   train_loss = 0.541\n",
      "Epoch  39 Batch   25/33   train_loss = 0.521\n",
      "Epoch  40 Batch   24/33   train_loss = 0.491\n",
      "Epoch  41 Batch   23/33   train_loss = 0.507\n",
      "Epoch  42 Batch   22/33   train_loss = 0.509\n",
      "Epoch  43 Batch   21/33   train_loss = 0.507\n",
      "Epoch  44 Batch   20/33   train_loss = 0.435\n",
      "Epoch  45 Batch   19/33   train_loss = 0.430\n",
      "Epoch  46 Batch   18/33   train_loss = 0.457\n",
      "Epoch  47 Batch   17/33   train_loss = 0.407\n",
      "Epoch  48 Batch   16/33   train_loss = 0.426\n",
      "Epoch  49 Batch   15/33   train_loss = 0.388\n",
      "Epoch  50 Batch   14/33   train_loss = 0.397\n",
      "Epoch  51 Batch   13/33   train_loss = 0.354\n",
      "Epoch  52 Batch   12/33   train_loss = 0.390\n",
      "Epoch  53 Batch   11/33   train_loss = 0.281\n",
      "Epoch  54 Batch   10/33   train_loss = 0.311\n",
      "Epoch  55 Batch    9/33   train_loss = 0.293\n",
      "Epoch  56 Batch    8/33   train_loss = 0.268\n",
      "Epoch  57 Batch    7/33   train_loss = 0.248\n",
      "Epoch  58 Batch    6/33   train_loss = 0.268\n",
      "Epoch  59 Batch    5/33   train_loss = 0.233\n",
      "Epoch  60 Batch    4/33   train_loss = 0.271\n",
      "Epoch  61 Batch    3/33   train_loss = 0.238\n",
      "Epoch  62 Batch    2/33   train_loss = 0.242\n",
      "Epoch  63 Batch    1/33   train_loss = 0.244\n",
      "Epoch  64 Batch    0/33   train_loss = 0.218\n",
      "Epoch  64 Batch   32/33   train_loss = 0.214\n",
      "Epoch  65 Batch   31/33   train_loss = 0.206\n",
      "Epoch  66 Batch   30/33   train_loss = 0.202\n",
      "Epoch  67 Batch   29/33   train_loss = 0.183\n",
      "Epoch  68 Batch   28/33   train_loss = 0.174\n",
      "Epoch  69 Batch   27/33   train_loss = 0.164\n",
      "Epoch  70 Batch   26/33   train_loss = 0.140\n",
      "Epoch  71 Batch   25/33   train_loss = 0.146\n",
      "Epoch  72 Batch   24/33   train_loss = 0.128\n",
      "Epoch  73 Batch   23/33   train_loss = 0.120\n",
      "Epoch  74 Batch   22/33   train_loss = 0.119\n",
      "Epoch  75 Batch   21/33   train_loss = 0.116\n",
      "Epoch  76 Batch   20/33   train_loss = 0.106\n",
      "Epoch  77 Batch   19/33   train_loss = 0.111\n",
      "Epoch  78 Batch   18/33   train_loss = 0.116\n",
      "Epoch  79 Batch   17/33   train_loss = 0.098\n",
      "Epoch  80 Batch   16/33   train_loss = 0.099\n",
      "Epoch  81 Batch   15/33   train_loss = 0.098\n",
      "Epoch  82 Batch   14/33   train_loss = 0.087\n",
      "Epoch  83 Batch   13/33   train_loss = 0.094\n",
      "Epoch  84 Batch   12/33   train_loss = 0.117\n",
      "Epoch  85 Batch   11/33   train_loss = 0.076\n",
      "Epoch  86 Batch   10/33   train_loss = 0.096\n",
      "Epoch  87 Batch    9/33   train_loss = 0.091\n",
      "Epoch  88 Batch    8/33   train_loss = 0.103\n",
      "Epoch  89 Batch    7/33   train_loss = 0.086\n",
      "Epoch  90 Batch    6/33   train_loss = 0.099\n",
      "Epoch  91 Batch    5/33   train_loss = 0.089\n",
      "Epoch  92 Batch    4/33   train_loss = 0.101\n",
      "Epoch  93 Batch    3/33   train_loss = 0.085\n",
      "Epoch  94 Batch    2/33   train_loss = 0.101\n",
      "Epoch  95 Batch    1/33   train_loss = 0.109\n",
      "Epoch  96 Batch    0/33   train_loss = 0.095\n",
      "Epoch  96 Batch   32/33   train_loss = 0.106\n",
      "Epoch  97 Batch   31/33   train_loss = 0.103\n",
      "Epoch  98 Batch   30/33   train_loss = 0.094\n",
      "Epoch  99 Batch   29/33   train_loss = 0.098\n",
      "Epoch 100 Batch   28/33   train_loss = 0.101\n",
      "Epoch 101 Batch   27/33   train_loss = 0.098\n",
      "Epoch 102 Batch   26/33   train_loss = 0.088\n",
      "Epoch 103 Batch   25/33   train_loss = 0.094\n",
      "Epoch 104 Batch   24/33   train_loss = 0.083\n",
      "Epoch 105 Batch   23/33   train_loss = 0.088\n",
      "Epoch 106 Batch   22/33   train_loss = 0.095\n",
      "Epoch 107 Batch   21/33   train_loss = 0.100\n",
      "Epoch 108 Batch   20/33   train_loss = 0.094\n",
      "Epoch 109 Batch   19/33   train_loss = 0.101\n",
      "Epoch 110 Batch   18/33   train_loss = 0.106\n",
      "Epoch 111 Batch   17/33   train_loss = 0.089\n",
      "Epoch 112 Batch   16/33   train_loss = 0.092\n",
      "Epoch 113 Batch   15/33   train_loss = 0.092\n",
      "Epoch 114 Batch   14/33   train_loss = 0.082\n",
      "Epoch 115 Batch   13/33   train_loss = 0.090\n",
      "Epoch 116 Batch   12/33   train_loss = 0.113\n",
      "Epoch 117 Batch   11/33   train_loss = 0.074\n",
      "Epoch 118 Batch   10/33   train_loss = 0.093\n",
      "Epoch 119 Batch    9/33   train_loss = 0.087\n",
      "Epoch 120 Batch    8/33   train_loss = 0.100\n",
      "Epoch 121 Batch    7/33   train_loss = 0.083\n",
      "Epoch 122 Batch    6/33   train_loss = 0.096\n",
      "Epoch 123 Batch    5/33   train_loss = 0.086\n",
      "Epoch 124 Batch    4/33   train_loss = 0.098\n",
      "Epoch 125 Batch    3/33   train_loss = 0.083\n",
      "Epoch 126 Batch    2/33   train_loss = 0.099\n",
      "Epoch 127 Batch    1/33   train_loss = 0.107\n",
      "Model Trained and Saved\n"
     ]
    }
   ],
   "source": [
    "\"\"\"\n",
    "DON'T MODIFY ANYTHING IN THIS CELL\n",
    "\"\"\"\n",
    "batches = get_batches(int_text, batch_size, seq_length)\n",
    "\n",
    "with tf.Session(graph=train_graph) as sess:\n",
    "    sess.run(tf.global_variables_initializer())\n",
    "\n",
    "    for epoch_i in range(num_epochs):\n",
    "        state = sess.run(initial_state, {input_text: batches[0][0]})\n",
    "\n",
    "        for batch_i, (x, y) in enumerate(batches):\n",
    "            feed = {\n",
    "                input_text: x,\n",
    "                targets: y,\n",
    "                initial_state: state,\n",
    "                lr: learning_rate}\n",
    "            train_loss, state, _ = sess.run([cost, final_state, train_op], feed)\n",
    "\n",
    "            # Show every <show_every_n_batches> batches\n",
    "            if (epoch_i * len(batches) + batch_i) % show_every_n_batches == 0:\n",
    "                print('Epoch {:>3} Batch {:>4}/{}   train_loss = {:.3f}'.format(\n",
    "                    epoch_i,\n",
    "                    batch_i,\n",
    "                    len(batches),\n",
    "                    train_loss))\n",
    "\n",
    "    # Save Model\n",
    "    saver = tf.train.Saver()\n",
    "    saver.save(sess, save_dir)\n",
    "    print('Model Trained and Saved')"
   ]
  },
  {
   "cell_type": "markdown",
   "metadata": {},
   "source": [
    "## Save Parameters\n",
    "Save `seq_length` and `save_dir` for generating a new TV script."
   ]
  },
  {
   "cell_type": "code",
   "execution_count": 17,
   "metadata": {
    "collapsed": true
   },
   "outputs": [],
   "source": [
    "\"\"\"\n",
    "DON'T MODIFY ANYTHING IN THIS CELL\n",
    "\"\"\"\n",
    "# Save parameters for checkpoint\n",
    "helper.save_params((seq_length, save_dir))"
   ]
  },
  {
   "cell_type": "markdown",
   "metadata": {},
   "source": [
    "# Checkpoint"
   ]
  },
  {
   "cell_type": "code",
   "execution_count": 18,
   "metadata": {
    "collapsed": true
   },
   "outputs": [],
   "source": [
    "\"\"\"\n",
    "DON'T MODIFY ANYTHING IN THIS CELL\n",
    "\"\"\"\n",
    "import tensorflow as tf\n",
    "import numpy as np\n",
    "import helper\n",
    "import problem_unittests as tests\n",
    "\n",
    "_, vocab_to_int, int_to_vocab, token_dict = helper.load_preprocess()\n",
    "seq_length, load_dir = helper.load_params()"
   ]
  },
  {
   "cell_type": "markdown",
   "metadata": {},
   "source": [
    "## Implement Generate Functions\n",
    "### Get Tensors\n",
    "Get tensors from `loaded_graph` using the function [`get_tensor_by_name()`](https://www.tensorflow.org/api_docs/python/tf/Graph#get_tensor_by_name).  Get the tensors using the following names:\n",
    "- \"input:0\"\n",
    "- \"initial_state:0\"\n",
    "- \"final_state:0\"\n",
    "- \"probs:0\"\n",
    "\n",
    "Return the tensors in the following tuple `(InputTensor, InitialStateTensor, FinalStateTensor, ProbsTensor)` "
   ]
  },
  {
   "cell_type": "code",
   "execution_count": 19,
   "metadata": {},
   "outputs": [
    {
     "name": "stdout",
     "output_type": "stream",
     "text": [
      "Tests Passed\n"
     ]
    }
   ],
   "source": [
    "def get_tensors(loaded_graph):\n",
    "    \"\"\"\n",
    "    Get input, initial state, final state, and probabilities tensor from <loaded_graph>\n",
    "    :param loaded_graph: TensorFlow graph loaded from file\n",
    "    :return: Tuple (InputTensor, InitialStateTensor, FinalStateTensor, ProbsTensor)\n",
    "    \"\"\"\n",
    "    # TODO: Implement Function\n",
    "    #return None, None, None, None\n",
    "    input_text = loaded_graph.get_tensor_by_name(\"input:0\")\n",
    "    initial_state = loaded_graph.get_tensor_by_name(\"initial_state:0\")\n",
    "    final_state = loaded_graph.get_tensor_by_name(\"final_state:0\")\n",
    "    probs = loaded_graph.get_tensor_by_name(\"probs:0\")\n",
    "    return input_text, initial_state, final_state, probs\n",
    "    \n",
    "\n",
    "\"\"\"\n",
    "DON'T MODIFY ANYTHING IN THIS CELL THAT IS BELOW THIS LINE\n",
    "\"\"\"\n",
    "tests.test_get_tensors(get_tensors)"
   ]
  },
  {
   "cell_type": "markdown",
   "metadata": {},
   "source": [
    "### Choose Word\n",
    "Implement the `pick_word()` function to select the next word using `probabilities`."
   ]
  },
  {
   "cell_type": "code",
   "execution_count": 20,
   "metadata": {},
   "outputs": [
    {
     "name": "stdout",
     "output_type": "stream",
     "text": [
      "Tests Passed\n"
     ]
    }
   ],
   "source": [
    "def pick_word(probabilities, int_to_vocab):\n",
    "    \"\"\"\n",
    "    Pick the next word in the generated text\n",
    "    :param probabilities: Probabilites of the next word\n",
    "    :param int_to_vocab: Dictionary of word ids as the keys and words as the values\n",
    "    :return: String of the predicted word\n",
    "    \"\"\"\n",
    "    # TODO: Implement Function\n",
    "    #return None\n",
    "    \n",
    "    vocab = np.array([value for value in int_to_vocab.values()])\n",
    "    prediction = np.random.choice(vocab, 1, p=probabilities)[0]\n",
    "    #print(prediction)\n",
    "    return prediction\n",
    "\n",
    "\n",
    "\"\"\"\n",
    "DON'T MODIFY ANYTHING IN THIS CELL THAT IS BELOW THIS LINE\n",
    "\"\"\"\n",
    "tests.test_pick_word(pick_word)"
   ]
  },
  {
   "cell_type": "markdown",
   "metadata": {},
   "source": [
    "## Generate TV Script\n",
    "This will generate the TV script for you.  Set `gen_length` to the length of TV script you want to generate."
   ]
  },
  {
   "cell_type": "code",
   "execution_count": 21,
   "metadata": {},
   "outputs": [
    {
     "name": "stdout",
     "output_type": "stream",
     "text": [
      "moe_szyslak: uh...(ad lib singing) my bar could be british / instead of arm-pittish / so why don't we all(spoken) eh, screw it... hello?\" where's homer?\n",
      "homer_simpson:(excited) ooo, bart!(realizing) my first prank call. what do i ever think i used a little trick.(as duff) you're yeah, yeah. we all got problems.\n",
      "lisa_simpson: chief.\n",
      "\n",
      "\n",
      "moe_szyslak: don't pull! i got no room for a friend. then he doesn't stand a drink?\n",
      "moe_szyslak: yeah, but there's something else. there's this loser staying in our house. marge says she's a great job?\n",
      "lenny_leonard: she's funny!\n",
      "moe_szyslak: yeah, i can't get artie of here to see what i have an old boyfriend.\n",
      "moe_szyslak: uh-huh.\n",
      "kirk_van_houten: well, homer, you're safe as complicated as moe...\n",
      "moe_szyslak: well, i trust you, moe...\n",
      "moe_szyslak: okay, i've always wanted a rough / you get drunk on your house, and my own butt.\n",
      "kent_brockman: dateline: kent brockman. i'm here at the scene of the christmas burglary, where a creature was that's not looking for\" the\" secret ingredient bag,\" that right is a little more hemoglobin and i think it's time for us to see me how to pronounce(over-pronouncing)\" joint.\" i guess i could do it online?\n",
      "moe_szyslak:(big) grenky ya loud whisper.\n",
      "bart_simpson:(jovial) are you kidding? i take it as a compliment!(chuckle) three beers, this trip is about turning your life around.\n",
      "lenny_leonard: with the subject. where ya?\n",
      "moe_szyslak: no, the oh, hey! that plank's only for the bar. it is done. and they had been in tab for?\n",
      "\n",
      "\n",
      "moe_szyslak: sure, i gotta check with lenny on that. uh, lemme squeeze some more out of alcohol, but they...\n",
      "moe_szyslak: all right, so the rules is, uh... what's the expression\n"
     ]
    }
   ],
   "source": [
    "gen_length = 400\n",
    "# homer_simpson, moe_szyslak, or Barney_Gumble\n",
    "prime_word = 'moe_szyslak'\n",
    "\n",
    "\"\"\"\n",
    "DON'T MODIFY ANYTHING IN THIS CELL THAT IS BELOW THIS LINE\n",
    "\"\"\"\n",
    "loaded_graph = tf.Graph()\n",
    "with tf.Session(graph=loaded_graph) as sess:\n",
    "    # Load saved model\n",
    "    loader = tf.train.import_meta_graph(load_dir + '.meta')\n",
    "    loader.restore(sess, load_dir)\n",
    "\n",
    "    # Get Tensors from loaded model\n",
    "    input_text, initial_state, final_state, probs = get_tensors(loaded_graph)\n",
    "\n",
    "    # Sentences generation setup\n",
    "    gen_sentences = [prime_word + ':']\n",
    "    prev_state = sess.run(initial_state, {input_text: np.array([[1]])})\n",
    "\n",
    "    # Generate sentences\n",
    "    for n in range(gen_length):\n",
    "        # Dynamic Input\n",
    "        dyn_input = [[vocab_to_int[word] for word in gen_sentences[-seq_length:]]]\n",
    "        dyn_seq_length = len(dyn_input[0])\n",
    "\n",
    "        # Get Prediction\n",
    "        probabilities, prev_state = sess.run(\n",
    "            [probs, final_state],\n",
    "            {input_text: dyn_input, initial_state: prev_state})\n",
    "        \n",
    "        pred_word = pick_word(probabilities[dyn_seq_length-1], int_to_vocab)\n",
    "\n",
    "        gen_sentences.append(pred_word)\n",
    "    \n",
    "    # Remove tokens\n",
    "    tv_script = ' '.join(gen_sentences)\n",
    "    for key, token in token_dict.items():\n",
    "        ending = ' ' if key in ['\\n', '(', '\"'] else ''\n",
    "        tv_script = tv_script.replace(' ' + token.lower(), key)\n",
    "    tv_script = tv_script.replace('\\n ', '\\n')\n",
    "    tv_script = tv_script.replace('( ', '(')\n",
    "        \n",
    "    print(tv_script)"
   ]
  },
  {
   "cell_type": "markdown",
   "metadata": {},
   "source": [
    "# The TV Script is Nonsensical\n",
    "It's ok if the TV script doesn't make any sense.  We trained on less than a megabyte of text.  In order to get good results, you'll have to use a smaller vocabulary or get more data.  Luckly there's more data!  As we mentioned in the begging of this project, this is a subset of [another dataset](https://www.kaggle.com/wcukierski/the-simpsons-by-the-data).  We didn't have you train on all the data, because that would take too long.  However, you are free to train your neural network on all the data.  After you complete the project, of course.\n",
    "# Submitting This Project\n",
    "When submitting this project, make sure to run all the cells before saving the notebook. Save the notebook file as \"dlnd_tv_script_generation.ipynb\" and save it as a HTML file under \"File\" -> \"Download as\". Include the \"helper.py\" and \"problem_unittests.py\" files in your submission."
   ]
  },
  {
   "cell_type": "code",
   "execution_count": null,
   "metadata": {
    "collapsed": true
   },
   "outputs": [],
   "source": []
  }
 ],
 "metadata": {
  "kernelspec": {
   "display_name": "Python 3",
   "language": "python",
   "name": "python3"
  },
  "language_info": {
   "codemirror_mode": {
    "name": "ipython",
    "version": 3
   },
   "file_extension": ".py",
   "mimetype": "text/x-python",
   "name": "python",
   "nbconvert_exporter": "python",
   "pygments_lexer": "ipython3",
   "version": "3.5.3"
  },
  "widgets": {
   "state": {},
   "version": "1.1.2"
  }
 },
 "nbformat": 4,
 "nbformat_minor": 1
}
